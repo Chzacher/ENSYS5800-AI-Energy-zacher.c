{
  "nbformat": 4,
  "nbformat_minor": 5,
  "metadata": {
    "colab": {
      "name": "ENSY5800-Spr21_Hwk1_Solution.ipynb",
      "provenance": [],
      "collapsed_sections": [],
      "include_colab_link": true
    },
    "kernelspec": {
      "display_name": "Python 3",
      "language": "python",
      "name": "python3"
    },
    "language_info": {
      "codemirror_mode": {
        "name": "ipython",
        "version": 3
      },
      "file_extension": ".py",
      "mimetype": "text/x-python",
      "name": "python",
      "nbconvert_exporter": "python",
      "pygments_lexer": "ipython3",
      "version": "3.9.2"
    },
    "widgets": {
      "application/vnd.jupyter.widget-state+json": {
        "570521ccfd1241328512f1536a8c125f": {
          "model_module": "@jupyter-widgets/controls",
          "model_name": "RadioButtonsModel",
          "model_module_version": "1.5.0",
          "state": {
            "_options_labels": [
              "Weak artificial intelligence",
              "Strong artificial intelligence"
            ],
            "_view_name": "RadioButtonsView",
            "style": "IPY_MODEL_f247c688113148889d4b2bcca3e4fdbf",
            "_dom_classes": [],
            "description": " ",
            "_model_name": "RadioButtonsModel",
            "index": 0,
            "_view_module": "@jupyter-widgets/controls",
            "_model_module_version": "1.5.0",
            "_view_count": null,
            "disabled": false,
            "_view_module_version": "1.5.0",
            "description_tooltip": null,
            "_model_module": "@jupyter-widgets/controls",
            "layout": "IPY_MODEL_6759fc4537af45d79b18b8789d1fe363"
          }
        },
        "f247c688113148889d4b2bcca3e4fdbf": {
          "model_module": "@jupyter-widgets/controls",
          "model_name": "DescriptionStyleModel",
          "model_module_version": "1.5.0",
          "state": {
            "_view_name": "StyleView",
            "_model_name": "DescriptionStyleModel",
            "description_width": "",
            "_view_module": "@jupyter-widgets/base",
            "_model_module_version": "1.5.0",
            "_view_count": null,
            "_view_module_version": "1.2.0",
            "_model_module": "@jupyter-widgets/controls"
          }
        },
        "6759fc4537af45d79b18b8789d1fe363": {
          "model_module": "@jupyter-widgets/base",
          "model_name": "LayoutModel",
          "model_module_version": "1.2.0",
          "state": {
            "_view_name": "LayoutView",
            "grid_template_rows": null,
            "right": null,
            "justify_content": null,
            "_view_module": "@jupyter-widgets/base",
            "overflow": null,
            "_model_module_version": "1.2.0",
            "_view_count": null,
            "flex_flow": null,
            "width": null,
            "min_width": null,
            "border": null,
            "align_items": null,
            "bottom": null,
            "_model_module": "@jupyter-widgets/base",
            "top": null,
            "grid_column": null,
            "overflow_y": null,
            "overflow_x": null,
            "grid_auto_flow": null,
            "grid_area": null,
            "grid_template_columns": null,
            "flex": null,
            "_model_name": "LayoutModel",
            "justify_items": null,
            "grid_row": null,
            "max_height": null,
            "align_content": null,
            "visibility": null,
            "align_self": null,
            "height": null,
            "min_height": null,
            "padding": null,
            "grid_auto_rows": null,
            "grid_gap": null,
            "max_width": null,
            "order": null,
            "_view_module_version": "1.2.0",
            "grid_template_areas": null,
            "object_position": null,
            "object_fit": null,
            "grid_auto_columns": null,
            "margin": null,
            "display": null,
            "left": null
          }
        },
        "e32b095a414a4ef7b55436afc11afbef": {
          "model_module": "@jupyter-widgets/controls",
          "model_name": "SelectModel",
          "model_module_version": "1.5.0",
          "state": {
            "_options_labels": [
              "Elbow Method",
              "Educated Guess",
              "Delphi technique"
            ],
            "_view_name": "SelectView",
            "style": "IPY_MODEL_c7cdc223cadd49d1ad0534c3be990ad5",
            "rows": 5,
            "_dom_classes": [],
            "description": "Method:",
            "_model_name": "SelectModel",
            "index": 0,
            "_view_module": "@jupyter-widgets/controls",
            "_model_module_version": "1.5.0",
            "_view_count": null,
            "disabled": false,
            "_view_module_version": "1.5.0",
            "description_tooltip": null,
            "_model_module": "@jupyter-widgets/controls",
            "layout": "IPY_MODEL_7409e8254c2643db8948a7cd7b568c6c"
          }
        },
        "c7cdc223cadd49d1ad0534c3be990ad5": {
          "model_module": "@jupyter-widgets/controls",
          "model_name": "DescriptionStyleModel",
          "model_module_version": "1.5.0",
          "state": {
            "_view_name": "StyleView",
            "_model_name": "DescriptionStyleModel",
            "description_width": "",
            "_view_module": "@jupyter-widgets/base",
            "_model_module_version": "1.5.0",
            "_view_count": null,
            "_view_module_version": "1.2.0",
            "_model_module": "@jupyter-widgets/controls"
          }
        },
        "7409e8254c2643db8948a7cd7b568c6c": {
          "model_module": "@jupyter-widgets/base",
          "model_name": "LayoutModel",
          "model_module_version": "1.2.0",
          "state": {
            "_view_name": "LayoutView",
            "grid_template_rows": null,
            "right": null,
            "justify_content": null,
            "_view_module": "@jupyter-widgets/base",
            "overflow": null,
            "_model_module_version": "1.2.0",
            "_view_count": null,
            "flex_flow": null,
            "width": null,
            "min_width": null,
            "border": null,
            "align_items": null,
            "bottom": null,
            "_model_module": "@jupyter-widgets/base",
            "top": null,
            "grid_column": null,
            "overflow_y": null,
            "overflow_x": null,
            "grid_auto_flow": null,
            "grid_area": null,
            "grid_template_columns": null,
            "flex": null,
            "_model_name": "LayoutModel",
            "justify_items": null,
            "grid_row": null,
            "max_height": null,
            "align_content": null,
            "visibility": null,
            "align_self": null,
            "height": null,
            "min_height": null,
            "padding": null,
            "grid_auto_rows": null,
            "grid_gap": null,
            "max_width": null,
            "order": null,
            "_view_module_version": "1.2.0",
            "grid_template_areas": null,
            "object_position": null,
            "object_fit": null,
            "grid_auto_columns": null,
            "margin": null,
            "display": null,
            "left": null
          }
        },
        "11bff076ac6647029bad59a2be6a065b": {
          "model_module": "@jupyter-widgets/controls",
          "model_name": "SelectModel",
          "model_module_version": "1.5.0",
          "state": {
            "_options_labels": [
              "Big Data",
              "Global Warming",
              "Moores Law",
              "IoT"
            ],
            "_view_name": "SelectView",
            "style": "IPY_MODEL_3e230632e22e475fb3fe0c92b2b2b77d",
            "rows": 5,
            "_dom_classes": [],
            "description": "Method:",
            "_model_name": "SelectModel",
            "index": 1,
            "_view_module": "@jupyter-widgets/controls",
            "_model_module_version": "1.5.0",
            "_view_count": null,
            "disabled": false,
            "_view_module_version": "1.5.0",
            "description_tooltip": null,
            "_model_module": "@jupyter-widgets/controls",
            "layout": "IPY_MODEL_9e48495ae41640d5b98472adff906865"
          }
        },
        "3e230632e22e475fb3fe0c92b2b2b77d": {
          "model_module": "@jupyter-widgets/controls",
          "model_name": "DescriptionStyleModel",
          "model_module_version": "1.5.0",
          "state": {
            "_view_name": "StyleView",
            "_model_name": "DescriptionStyleModel",
            "description_width": "",
            "_view_module": "@jupyter-widgets/base",
            "_model_module_version": "1.5.0",
            "_view_count": null,
            "_view_module_version": "1.2.0",
            "_model_module": "@jupyter-widgets/controls"
          }
        },
        "9e48495ae41640d5b98472adff906865": {
          "model_module": "@jupyter-widgets/base",
          "model_name": "LayoutModel",
          "model_module_version": "1.2.0",
          "state": {
            "_view_name": "LayoutView",
            "grid_template_rows": null,
            "right": null,
            "justify_content": null,
            "_view_module": "@jupyter-widgets/base",
            "overflow": null,
            "_model_module_version": "1.2.0",
            "_view_count": null,
            "flex_flow": null,
            "width": null,
            "min_width": null,
            "border": null,
            "align_items": null,
            "bottom": null,
            "_model_module": "@jupyter-widgets/base",
            "top": null,
            "grid_column": null,
            "overflow_y": null,
            "overflow_x": null,
            "grid_auto_flow": null,
            "grid_area": null,
            "grid_template_columns": null,
            "flex": null,
            "_model_name": "LayoutModel",
            "justify_items": null,
            "grid_row": null,
            "max_height": null,
            "align_content": null,
            "visibility": null,
            "align_self": null,
            "height": null,
            "min_height": null,
            "padding": null,
            "grid_auto_rows": null,
            "grid_gap": null,
            "max_width": null,
            "order": null,
            "_view_module_version": "1.2.0",
            "grid_template_areas": null,
            "object_position": null,
            "object_fit": null,
            "grid_auto_columns": null,
            "margin": null,
            "display": null,
            "left": null
          }
        },
        "01fa5ea0d55f4957b783e3823557aa9d": {
          "model_module": "@jupyter-widgets/controls",
          "model_name": "TextModel",
          "model_module_version": "1.5.0",
          "state": {
            "_view_name": "TextView",
            "style": "IPY_MODEL_a83e36705732462a954f22d9a62a7fb4",
            "_dom_classes": [],
            "description": "Answer:",
            "_model_name": "TextModel",
            "placeholder": "Type something",
            "_view_module": "@jupyter-widgets/controls",
            "_model_module_version": "1.5.0",
            "value": "15250",
            "_view_count": null,
            "disabled": false,
            "_view_module_version": "1.5.0",
            "continuous_update": true,
            "description_tooltip": null,
            "_model_module": "@jupyter-widgets/controls",
            "layout": "IPY_MODEL_c92ecc8da04c432f85f8c46f3842f11b"
          }
        },
        "a83e36705732462a954f22d9a62a7fb4": {
          "model_module": "@jupyter-widgets/controls",
          "model_name": "DescriptionStyleModel",
          "model_module_version": "1.5.0",
          "state": {
            "_view_name": "StyleView",
            "_model_name": "DescriptionStyleModel",
            "description_width": "",
            "_view_module": "@jupyter-widgets/base",
            "_model_module_version": "1.5.0",
            "_view_count": null,
            "_view_module_version": "1.2.0",
            "_model_module": "@jupyter-widgets/controls"
          }
        },
        "c92ecc8da04c432f85f8c46f3842f11b": {
          "model_module": "@jupyter-widgets/base",
          "model_name": "LayoutModel",
          "model_module_version": "1.2.0",
          "state": {
            "_view_name": "LayoutView",
            "grid_template_rows": null,
            "right": null,
            "justify_content": null,
            "_view_module": "@jupyter-widgets/base",
            "overflow": null,
            "_model_module_version": "1.2.0",
            "_view_count": null,
            "flex_flow": null,
            "width": null,
            "min_width": null,
            "border": null,
            "align_items": null,
            "bottom": null,
            "_model_module": "@jupyter-widgets/base",
            "top": null,
            "grid_column": null,
            "overflow_y": null,
            "overflow_x": null,
            "grid_auto_flow": null,
            "grid_area": null,
            "grid_template_columns": null,
            "flex": null,
            "_model_name": "LayoutModel",
            "justify_items": null,
            "grid_row": null,
            "max_height": null,
            "align_content": null,
            "visibility": null,
            "align_self": null,
            "height": null,
            "min_height": null,
            "padding": null,
            "grid_auto_rows": null,
            "grid_gap": null,
            "max_width": null,
            "order": null,
            "_view_module_version": "1.2.0",
            "grid_template_areas": null,
            "object_position": null,
            "object_fit": null,
            "grid_auto_columns": null,
            "margin": null,
            "display": null,
            "left": null
          }
        },
        "cc0e479d7c014230aa91346743ce074d": {
          "model_module": "@jupyter-widgets/controls",
          "model_name": "TextModel",
          "model_module_version": "1.5.0",
          "state": {
            "_dom_classes": [],
            "_model_module": "@jupyter-widgets/controls",
            "_model_module_version": "1.5.0",
            "_model_name": "TextModel",
            "_view_count": null,
            "_view_module": "@jupyter-widgets/controls",
            "_view_module_version": "1.5.0",
            "_view_name": "TextView",
            "continuous_update": true,
            "description": "Answer:",
            "description_tooltip": null,
            "disabled": false,
            "layout": "IPY_MODEL_0e8ae3eb7f474a95bf78caefb62f2a9d",
            "placeholder": "Type something",
            "style": "IPY_MODEL_1943d15771774bc59002b34b41c58acf",
            "value": ""
          }
        },
        "1943d15771774bc59002b34b41c58acf": {
          "model_module": "@jupyter-widgets/controls",
          "model_name": "DescriptionStyleModel",
          "model_module_version": "1.5.0",
          "state": {
            "_model_module": "@jupyter-widgets/controls",
            "_model_module_version": "1.5.0",
            "_model_name": "DescriptionStyleModel",
            "_view_count": null,
            "_view_module": "@jupyter-widgets/base",
            "_view_module_version": "1.2.0",
            "_view_name": "StyleView",
            "description_width": ""
          }
        },
        "0e8ae3eb7f474a95bf78caefb62f2a9d": {
          "model_module": "@jupyter-widgets/base",
          "model_name": "LayoutModel",
          "model_module_version": "1.2.0",
          "state": {
            "_model_module": "@jupyter-widgets/base",
            "_model_module_version": "1.2.0",
            "_model_name": "LayoutModel",
            "_view_count": null,
            "_view_module": "@jupyter-widgets/base",
            "_view_module_version": "1.2.0",
            "_view_name": "LayoutView",
            "align_content": null,
            "align_items": null,
            "align_self": null,
            "border": null,
            "bottom": null,
            "display": null,
            "flex": null,
            "flex_flow": null,
            "grid_area": null,
            "grid_auto_columns": null,
            "grid_auto_flow": null,
            "grid_auto_rows": null,
            "grid_column": null,
            "grid_gap": null,
            "grid_row": null,
            "grid_template_areas": null,
            "grid_template_columns": null,
            "grid_template_rows": null,
            "height": null,
            "justify_content": null,
            "justify_items": null,
            "left": null,
            "margin": null,
            "max_height": null,
            "max_width": null,
            "min_height": null,
            "min_width": null,
            "object_fit": null,
            "object_position": null,
            "order": null,
            "overflow": null,
            "overflow_x": null,
            "overflow_y": null,
            "padding": null,
            "right": null,
            "top": null,
            "visibility": null,
            "width": null
          }
        },
        "2e29916adce24145910f81a1f4fe8541": {
          "model_module": "@jupyter-widgets/controls",
          "model_name": "TextModel",
          "model_module_version": "1.5.0",
          "state": {
            "_dom_classes": [],
            "_model_module": "@jupyter-widgets/controls",
            "_model_module_version": "1.5.0",
            "_model_name": "TextModel",
            "_view_count": null,
            "_view_module": "@jupyter-widgets/controls",
            "_view_module_version": "1.5.0",
            "_view_name": "TextView",
            "continuous_update": true,
            "description": "Answer:",
            "description_tooltip": null,
            "disabled": false,
            "layout": "IPY_MODEL_eca5c7ea196a4300a77bdbfd2d42c969",
            "placeholder": "Type something",
            "style": "IPY_MODEL_d9ca4b175da34eda8b0f6b6e16b58c6e",
            "value": ""
          }
        },
        "d9ca4b175da34eda8b0f6b6e16b58c6e": {
          "model_module": "@jupyter-widgets/controls",
          "model_name": "DescriptionStyleModel",
          "model_module_version": "1.5.0",
          "state": {
            "_model_module": "@jupyter-widgets/controls",
            "_model_module_version": "1.5.0",
            "_model_name": "DescriptionStyleModel",
            "_view_count": null,
            "_view_module": "@jupyter-widgets/base",
            "_view_module_version": "1.2.0",
            "_view_name": "StyleView",
            "description_width": ""
          }
        },
        "eca5c7ea196a4300a77bdbfd2d42c969": {
          "model_module": "@jupyter-widgets/base",
          "model_name": "LayoutModel",
          "model_module_version": "1.2.0",
          "state": {
            "_model_module": "@jupyter-widgets/base",
            "_model_module_version": "1.2.0",
            "_model_name": "LayoutModel",
            "_view_count": null,
            "_view_module": "@jupyter-widgets/base",
            "_view_module_version": "1.2.0",
            "_view_name": "LayoutView",
            "align_content": null,
            "align_items": null,
            "align_self": null,
            "border": null,
            "bottom": null,
            "display": null,
            "flex": null,
            "flex_flow": null,
            "grid_area": null,
            "grid_auto_columns": null,
            "grid_auto_flow": null,
            "grid_auto_rows": null,
            "grid_column": null,
            "grid_gap": null,
            "grid_row": null,
            "grid_template_areas": null,
            "grid_template_columns": null,
            "grid_template_rows": null,
            "height": null,
            "justify_content": null,
            "justify_items": null,
            "left": null,
            "margin": null,
            "max_height": null,
            "max_width": null,
            "min_height": null,
            "min_width": null,
            "object_fit": null,
            "object_position": null,
            "order": null,
            "overflow": null,
            "overflow_x": null,
            "overflow_y": null,
            "padding": null,
            "right": null,
            "top": null,
            "visibility": null,
            "width": null
          }
        }
      }
    }
  },
  "cells": [
    {
      "cell_type": "markdown",
      "metadata": {
        "id": "view-in-github",
        "colab_type": "text"
      },
      "source": [
        "<a href=\"https://colab.research.google.com/github/Chzacher/ENSYS5800-AI-Energy-zacher.c/blob/main/ENSY5800_Spr21_Hwk2_Solution.ipynb\" target=\"_parent\"><img src=\"https://colab.research.google.com/assets/colab-badge.svg\" alt=\"Open In Colab\"/></a>"
      ]
    },
    {
      "cell_type": "markdown",
      "metadata": {
        "id": "printable-kazakhstan"
      },
      "source": [
        "# ENSYS 5800: Applications of Artificial Intelligence in Energy Systems"
      ],
      "id": "printable-kazakhstan"
    },
    {
      "cell_type": "markdown",
      "metadata": {
        "id": "durable-element"
      },
      "source": [
        "## Homework 2: Data Analytics"
      ],
      "id": "durable-element"
    },
    {
      "cell_type": "markdown",
      "metadata": {
        "id": "statutory-marker"
      },
      "source": [
        "Instructions\n",
        "1. Use only Jupyter Notebook (with Google Colab) to answer these questions\n",
        "2. Some questions are short answer and some require you to write some basic code to solve\n",
        "3. You must show your work for the coding problems (ex. make comments in the code)\n",
        "4. Your score (i.e. total points) from these question will be converted to the points for this assignment in Canvas (ex. 20 out of 20 converts to 3 points in canvas)"
      ],
      "id": "statutory-marker"
    },
    {
      "cell_type": "code",
      "metadata": {
        "id": "floating-simon"
      },
      "source": [
        "#####===> DO NOT CHANGE THIS CELL <===#####\n",
        "from __future__ import print_function\n",
        "from ipywidgets import interact, interactive, fixed, interact_manual\n",
        "import ipywidgets as widgets\n",
        "import matplotlib.pyplot as plt\n",
        "###########################################"
      ],
      "id": "floating-simon",
      "execution_count": 13,
      "outputs": []
    },
    {
      "cell_type": "markdown",
      "metadata": {
        "id": "instructional-assistant"
      },
      "source": [
        "### Short answer questions"
      ],
      "id": "instructional-assistant"
    },
    {
      "cell_type": "markdown",
      "metadata": {
        "id": "helpful-universal"
      },
      "source": [
        "**1. [1 point] An engineer creates an artificial neural network to predict specific faults in an energy system. Is this an example of weak artificial intelligence, or strong artificial intelligence?**"
      ],
      "id": "helpful-universal"
    },
    {
      "cell_type": "code",
      "metadata": {
        "colab": {
          "base_uri": "https://localhost:8080/",
          "height": 61,
          "referenced_widgets": [
            "570521ccfd1241328512f1536a8c125f",
            "f247c688113148889d4b2bcca3e4fdbf",
            "6759fc4537af45d79b18b8789d1fe363"
          ]
        },
        "id": "convertible-republic",
        "jupyter": {
          "source_hidden": true
        },
        "tags": [],
        "outputId": "1cce9497-c5ad-4a7b-f755-d042c9abf999"
      },
      "source": [
        "widgets.RadioButtons(options=['Weak artificial intelligence', 'Strong artificial intelligence'],value=None,description=' ',disabled=False)"
      ],
      "id": "convertible-republic",
      "execution_count": null,
      "outputs": [
        {
          "output_type": "display_data",
          "data": {
            "application/vnd.jupyter.widget-view+json": {
              "model_id": "570521ccfd1241328512f1536a8c125f",
              "version_minor": 0,
              "version_major": 2
            },
            "text/plain": [
              "RadioButtons(description=' ', options=('Weak artificial intelligence', 'Strong artificial intelligence'), valu…"
            ]
          },
          "metadata": {}
        }
      ]
    },
    {
      "cell_type": "markdown",
      "metadata": {
        "id": "broke-trustee"
      },
      "source": [
        "**2. [1 point] Which of these methods is a technique used to help choose the number of clusters for kmeans clustering?**"
      ],
      "id": "broke-trustee"
    },
    {
      "cell_type": "code",
      "metadata": {
        "colab": {
          "base_uri": "https://localhost:8080/",
          "height": 111,
          "referenced_widgets": [
            "e32b095a414a4ef7b55436afc11afbef",
            "c7cdc223cadd49d1ad0534c3be990ad5",
            "7409e8254c2643db8948a7cd7b568c6c"
          ]
        },
        "id": "north-asian",
        "jupyter": {
          "source_hidden": true
        },
        "outputId": "7244b9aa-cdca-4942-b883-ebf2f369b7d8"
      },
      "source": [
        "widgets.Select(options=['Elbow Method', 'Educated Guess', 'Delphi technique'],value=None,description='Method:',disabled=False)"
      ],
      "id": "north-asian",
      "execution_count": null,
      "outputs": [
        {
          "output_type": "display_data",
          "data": {
            "application/vnd.jupyter.widget-view+json": {
              "model_id": "e32b095a414a4ef7b55436afc11afbef",
              "version_minor": 0,
              "version_major": 2
            },
            "text/plain": [
              "Select(description='Method:', options=('Elbow Method', 'Educated Guess', 'Delphi technique'), value=None)"
            ]
          },
          "metadata": {}
        }
      ]
    },
    {
      "cell_type": "code",
      "metadata": {
        "id": "great-mainland",
        "jupyter": {
          "source_hidden": true
        }
      },
      "source": [
        "widgets.RadioButtons(options=['True', 'False'],value=None,description=' ',disabled=False)"
      ],
      "id": "great-mainland",
      "execution_count": null,
      "outputs": []
    },
    {
      "cell_type": "markdown",
      "metadata": {
        "id": "qwp6Pav71WmA"
      },
      "source": [
        "Ignored per canvas message"
      ],
      "id": "qwp6Pav71WmA"
    },
    {
      "cell_type": "markdown",
      "metadata": {
        "id": "GN5gIaU71WUF"
      },
      "source": [
        ""
      ],
      "id": "GN5gIaU71WUF"
    },
    {
      "cell_type": "markdown",
      "metadata": {
        "id": "opening-management"
      },
      "source": [
        "**3. [1 point] Which of these items is *NOT* considered an enabler of the current increase in using Artificial Intelligence? [Select the single best answer]**"
      ],
      "id": "opening-management"
    },
    {
      "cell_type": "code",
      "metadata": {
        "colab": {
          "base_uri": "https://localhost:8080/",
          "height": 111,
          "referenced_widgets": [
            "11bff076ac6647029bad59a2be6a065b",
            "3e230632e22e475fb3fe0c92b2b2b77d",
            "9e48495ae41640d5b98472adff906865"
          ]
        },
        "id": "promising-newton",
        "jupyter": {
          "source_hidden": true
        },
        "outputId": "772e3efb-f5c8-43a8-c479-21e6b2a13eb5"
      },
      "source": [
        "widgets.Select(options=['Big Data', 'Global Warming', 'Moores Law','IoT'],value=None,description='Method:',disabled=False)"
      ],
      "id": "promising-newton",
      "execution_count": null,
      "outputs": [
        {
          "output_type": "display_data",
          "data": {
            "application/vnd.jupyter.widget-view+json": {
              "model_id": "11bff076ac6647029bad59a2be6a065b",
              "version_minor": 0,
              "version_major": 2
            },
            "text/plain": [
              "Select(description='Method:', options=('Big Data', 'Global Warming', 'Moores Law', 'IoT'), value=None)"
            ]
          },
          "metadata": {}
        }
      ]
    },
    {
      "cell_type": "markdown",
      "metadata": {
        "id": "comparative-eating"
      },
      "source": [
        "### Data Analytics"
      ],
      "id": "comparative-eating"
    },
    {
      "cell_type": "code",
      "metadata": {
        "colab": {
          "base_uri": "https://localhost:8080/"
        },
        "id": "secondary-exhaust",
        "jupyter": {
          "source_hidden": true
        },
        "outputId": "e2937671-1bb6-4031-9ee1-383278e9edc9"
      },
      "source": [
        "#####===> DO NOT CHANGE THIS CELL <===#####\n",
        "import pandas as pd                             # Import the pandas library as the object named 'pd'\n",
        "import matplotlib.pyplot as plt                 # Import the matplotlib plotting package\n",
        "\n",
        "url=\"https://storage.googleapis.com/doe-iac/IAC_Database_20210127.csv\"    # Assign the data source URL as a variable called 'url'\n",
        "data=pd.read_csv(url, sep=',', header=None, error_bad_lines=False)        # Create pandas dataframe, pd, by reading the url data as a csv formatted data file"
      ],
      "id": "secondary-exhaust",
      "execution_count": 14,
      "outputs": [
        {
          "output_type": "stream",
          "name": "stderr",
          "text": [
            "/usr/local/lib/python3.7/dist-packages/IPython/core/interactiveshell.py:2718: DtypeWarning: Columns (2,3,4,6,7,8,10,11,12,13,14,15,16,17,18,19,20,21,22,23,24,25,26,27,28,29,30,31,32,33,34,35,36,37,38,39,40,41,42,43,44,45,46,47,48,49,50,51,52,53,54) have mixed types.Specify dtype option on import or set low_memory=False.\n",
            "  interactivity=interactivity, compiler=compiler, result=result)\n"
          ]
        }
      ]
    },
    {
      "cell_type": "markdown",
      "metadata": {
        "id": "still-ethiopia"
      },
      "source": [
        "#### Perform data analytics on the DOE IAC Building Energy Data set, focusing on these two columns: *PLANT_AREA* and *EC_plant_usage*"
      ],
      "id": "still-ethiopia"
    },
    {
      "cell_type": "markdown",
      "metadata": {
        "id": "dependent-lightweight"
      },
      "source": [
        "**4. [1 point] Prepare the data set by setting the Column names to the names in the first row, and setting the Index to the ID column.**\n",
        ">Hint: Use the same approach as last week's example."
      ],
      "id": "dependent-lightweight"
    },
    {
      "cell_type": "code",
      "metadata": {
        "id": "biblical-sierra",
        "colab": {
          "base_uri": "https://localhost:8080/",
          "height": 701
        },
        "outputId": "49ec052a-15f3-4d4b-f45f-042e6975f287"
      },
      "source": [
        "##### YOUR CODE HERE #######                                     # Code sourced from: 02a. Fundamentals - Descriptive Analytics - Building Energy Data (Example 2.2).ipynb\n",
        "headers = data.iloc[0]                                           # Create a temporary variable which is the first row (which has the column names)\n",
        "data  = pd.DataFrame(data.values[1:], columns=headers)           # Recreate the dataframe and assign the headers variable as the column names (drop the first row)\n",
        "data = data.set_index(['ID'])                                    # Set the 'ID' column as the index (i.e. key) in the pandas dataframe. (Note that each ID is unique)\n",
        "data\n",
        "############################"
      ],
      "id": "biblical-sierra",
      "execution_count": 15,
      "outputs": [
        {
          "output_type": "execute_result",
          "data": {
            "text/html": [
              "<div>\n",
              "<style scoped>\n",
              "    .dataframe tbody tr th:only-of-type {\n",
              "        vertical-align: middle;\n",
              "    }\n",
              "\n",
              "    .dataframe tbody tr th {\n",
              "        vertical-align: top;\n",
              "    }\n",
              "\n",
              "    .dataframe thead th {\n",
              "        text-align: right;\n",
              "    }\n",
              "</style>\n",
              "<table border=\"1\" class=\"dataframe\">\n",
              "  <thead>\n",
              "    <tr style=\"text-align: right;\">\n",
              "      <th></th>\n",
              "      <th>CENTER</th>\n",
              "      <th>FY</th>\n",
              "      <th>SIC</th>\n",
              "      <th>NAICS</th>\n",
              "      <th>STATE</th>\n",
              "      <th>SALES</th>\n",
              "      <th>EMPLOYEES</th>\n",
              "      <th>PLANT_AREA</th>\n",
              "      <th>PRODUCTS</th>\n",
              "      <th>PRODUNITS</th>\n",
              "      <th>PRODLEVEL</th>\n",
              "      <th>PRODHOURS</th>\n",
              "      <th>NUMARS</th>\n",
              "      <th>EC_plant_cost</th>\n",
              "      <th>EC_plant_usage</th>\n",
              "      <th>ED_plant_cost</th>\n",
              "      <th>ED_plant_usage</th>\n",
              "      <th>EF_plant_cost</th>\n",
              "      <th>E2_plant_cost</th>\n",
              "      <th>E2_plant_usage</th>\n",
              "      <th>E3_plant_cost</th>\n",
              "      <th>E3_plant_usage</th>\n",
              "      <th>E4_plant_cost</th>\n",
              "      <th>E4_plant_usage</th>\n",
              "      <th>E5_plant_cost</th>\n",
              "      <th>E5_plant_usage</th>\n",
              "      <th>E6_plant_cost</th>\n",
              "      <th>E6_plant_usage</th>\n",
              "      <th>E7_plant_cost</th>\n",
              "      <th>E7_plant_usage</th>\n",
              "      <th>E8_plant_cost</th>\n",
              "      <th>E8_plant_usage</th>\n",
              "      <th>E9_plant_cost</th>\n",
              "      <th>E9_plant_usage</th>\n",
              "      <th>E10_plant_cost</th>\n",
              "      <th>E10_plant_usage</th>\n",
              "      <th>E11_plant_cost</th>\n",
              "      <th>E11_plant_usage</th>\n",
              "      <th>E12_plant_cost</th>\n",
              "      <th>E12_plant_usage</th>\n",
              "      <th>W0_plant_cost</th>\n",
              "      <th>W0_plant_usage</th>\n",
              "      <th>W1_plant_cost</th>\n",
              "      <th>W1_plant_usage</th>\n",
              "      <th>W2_plant_cost</th>\n",
              "      <th>W2_plant_usage</th>\n",
              "      <th>W3_plant_cost</th>\n",
              "      <th>W3_plant_usage</th>\n",
              "      <th>W4_plant_cost</th>\n",
              "      <th>W4_plant_usage</th>\n",
              "      <th>W5_plant_cost</th>\n",
              "      <th>W5_plant_usage</th>\n",
              "      <th>W6_plant_cost</th>\n",
              "      <th>W6_plant_usage</th>\n",
              "    </tr>\n",
              "    <tr>\n",
              "      <th>ID</th>\n",
              "      <th></th>\n",
              "      <th></th>\n",
              "      <th></th>\n",
              "      <th></th>\n",
              "      <th></th>\n",
              "      <th></th>\n",
              "      <th></th>\n",
              "      <th></th>\n",
              "      <th></th>\n",
              "      <th></th>\n",
              "      <th></th>\n",
              "      <th></th>\n",
              "      <th></th>\n",
              "      <th></th>\n",
              "      <th></th>\n",
              "      <th></th>\n",
              "      <th></th>\n",
              "      <th></th>\n",
              "      <th></th>\n",
              "      <th></th>\n",
              "      <th></th>\n",
              "      <th></th>\n",
              "      <th></th>\n",
              "      <th></th>\n",
              "      <th></th>\n",
              "      <th></th>\n",
              "      <th></th>\n",
              "      <th></th>\n",
              "      <th></th>\n",
              "      <th></th>\n",
              "      <th></th>\n",
              "      <th></th>\n",
              "      <th></th>\n",
              "      <th></th>\n",
              "      <th></th>\n",
              "      <th></th>\n",
              "      <th></th>\n",
              "      <th></th>\n",
              "      <th></th>\n",
              "      <th></th>\n",
              "      <th></th>\n",
              "      <th></th>\n",
              "      <th></th>\n",
              "      <th></th>\n",
              "      <th></th>\n",
              "      <th></th>\n",
              "      <th></th>\n",
              "      <th></th>\n",
              "      <th></th>\n",
              "      <th></th>\n",
              "      <th></th>\n",
              "      <th></th>\n",
              "      <th></th>\n",
              "      <th></th>\n",
              "    </tr>\n",
              "  </thead>\n",
              "  <tbody>\n",
              "    <tr>\n",
              "      <th>AM0001</th>\n",
              "      <td>AM</td>\n",
              "      <td>1987</td>\n",
              "      <td>3671</td>\n",
              "      <td>NaN</td>\n",
              "      <td>TX</td>\n",
              "      <td>33900000</td>\n",
              "      <td>206</td>\n",
              "      <td>NaN</td>\n",
              "      <td>MICRO &amp; MINI COMPUTERS</td>\n",
              "      <td>1</td>\n",
              "      <td>310</td>\n",
              "      <td>2250</td>\n",
              "      <td>7</td>\n",
              "      <td>184985</td>\n",
              "      <td>2560082</td>\n",
              "      <td>NaN</td>\n",
              "      <td>NaN</td>\n",
              "      <td>NaN</td>\n",
              "      <td>NaN</td>\n",
              "      <td>NaN</td>\n",
              "      <td>NaN</td>\n",
              "      <td>NaN</td>\n",
              "      <td>NaN</td>\n",
              "      <td>NaN</td>\n",
              "      <td>NaN</td>\n",
              "      <td>NaN</td>\n",
              "      <td>NaN</td>\n",
              "      <td>NaN</td>\n",
              "      <td>NaN</td>\n",
              "      <td>NaN</td>\n",
              "      <td>NaN</td>\n",
              "      <td>NaN</td>\n",
              "      <td>NaN</td>\n",
              "      <td>NaN</td>\n",
              "      <td>NaN</td>\n",
              "      <td>NaN</td>\n",
              "      <td>NaN</td>\n",
              "      <td>NaN</td>\n",
              "      <td>NaN</td>\n",
              "      <td>NaN</td>\n",
              "      <td>NaN</td>\n",
              "      <td>NaN</td>\n",
              "      <td>NaN</td>\n",
              "      <td>NaN</td>\n",
              "      <td>NaN</td>\n",
              "      <td>NaN</td>\n",
              "      <td>NaN</td>\n",
              "      <td>NaN</td>\n",
              "      <td>NaN</td>\n",
              "      <td>NaN</td>\n",
              "      <td>NaN</td>\n",
              "      <td>NaN</td>\n",
              "      <td>NaN</td>\n",
              "      <td>NaN</td>\n",
              "    </tr>\n",
              "    <tr>\n",
              "      <th>AM0002</th>\n",
              "      <td>AM</td>\n",
              "      <td>1987</td>\n",
              "      <td>2761</td>\n",
              "      <td>NaN</td>\n",
              "      <td>TX</td>\n",
              "      <td>25000000</td>\n",
              "      <td>156</td>\n",
              "      <td>NaN</td>\n",
              "      <td>BUSINESS FORMS</td>\n",
              "      <td>NaN</td>\n",
              "      <td>NaN</td>\n",
              "      <td>2250</td>\n",
              "      <td>9</td>\n",
              "      <td>267702</td>\n",
              "      <td>4867233</td>\n",
              "      <td>NaN</td>\n",
              "      <td>NaN</td>\n",
              "      <td>NaN</td>\n",
              "      <td>70657</td>\n",
              "      <td>19338</td>\n",
              "      <td>NaN</td>\n",
              "      <td>NaN</td>\n",
              "      <td>NaN</td>\n",
              "      <td>NaN</td>\n",
              "      <td>NaN</td>\n",
              "      <td>NaN</td>\n",
              "      <td>NaN</td>\n",
              "      <td>NaN</td>\n",
              "      <td>NaN</td>\n",
              "      <td>NaN</td>\n",
              "      <td>NaN</td>\n",
              "      <td>NaN</td>\n",
              "      <td>NaN</td>\n",
              "      <td>NaN</td>\n",
              "      <td>NaN</td>\n",
              "      <td>NaN</td>\n",
              "      <td>NaN</td>\n",
              "      <td>NaN</td>\n",
              "      <td>NaN</td>\n",
              "      <td>NaN</td>\n",
              "      <td>NaN</td>\n",
              "      <td>NaN</td>\n",
              "      <td>NaN</td>\n",
              "      <td>NaN</td>\n",
              "      <td>NaN</td>\n",
              "      <td>NaN</td>\n",
              "      <td>NaN</td>\n",
              "      <td>NaN</td>\n",
              "      <td>NaN</td>\n",
              "      <td>NaN</td>\n",
              "      <td>NaN</td>\n",
              "      <td>NaN</td>\n",
              "      <td>NaN</td>\n",
              "      <td>NaN</td>\n",
              "    </tr>\n",
              "    <tr>\n",
              "      <th>AM0003</th>\n",
              "      <td>AM</td>\n",
              "      <td>1987</td>\n",
              "      <td>3494</td>\n",
              "      <td>NaN</td>\n",
              "      <td>TX</td>\n",
              "      <td>15000000</td>\n",
              "      <td>200</td>\n",
              "      <td>NaN</td>\n",
              "      <td>SAFETY JOINTS &amp; VALVES</td>\n",
              "      <td>NaN</td>\n",
              "      <td>NaN</td>\n",
              "      <td>2250</td>\n",
              "      <td>8</td>\n",
              "      <td>129334</td>\n",
              "      <td>1723036</td>\n",
              "      <td>NaN</td>\n",
              "      <td>NaN</td>\n",
              "      <td>NaN</td>\n",
              "      <td>10146</td>\n",
              "      <td>2074</td>\n",
              "      <td>NaN</td>\n",
              "      <td>NaN</td>\n",
              "      <td>NaN</td>\n",
              "      <td>NaN</td>\n",
              "      <td>NaN</td>\n",
              "      <td>NaN</td>\n",
              "      <td>NaN</td>\n",
              "      <td>NaN</td>\n",
              "      <td>NaN</td>\n",
              "      <td>NaN</td>\n",
              "      <td>NaN</td>\n",
              "      <td>NaN</td>\n",
              "      <td>NaN</td>\n",
              "      <td>NaN</td>\n",
              "      <td>NaN</td>\n",
              "      <td>NaN</td>\n",
              "      <td>NaN</td>\n",
              "      <td>NaN</td>\n",
              "      <td>NaN</td>\n",
              "      <td>NaN</td>\n",
              "      <td>NaN</td>\n",
              "      <td>NaN</td>\n",
              "      <td>NaN</td>\n",
              "      <td>NaN</td>\n",
              "      <td>NaN</td>\n",
              "      <td>NaN</td>\n",
              "      <td>NaN</td>\n",
              "      <td>NaN</td>\n",
              "      <td>NaN</td>\n",
              "      <td>NaN</td>\n",
              "      <td>NaN</td>\n",
              "      <td>NaN</td>\n",
              "      <td>NaN</td>\n",
              "      <td>NaN</td>\n",
              "    </tr>\n",
              "    <tr>\n",
              "      <th>AM0004</th>\n",
              "      <td>AM</td>\n",
              "      <td>1987</td>\n",
              "      <td>3713</td>\n",
              "      <td>NaN</td>\n",
              "      <td>TX</td>\n",
              "      <td>4200000</td>\n",
              "      <td>75</td>\n",
              "      <td>NaN</td>\n",
              "      <td>TRUCKS BEDS &amp; TRAILERS</td>\n",
              "      <td>1</td>\n",
              "      <td>1000</td>\n",
              "      <td>2340</td>\n",
              "      <td>11</td>\n",
              "      <td>53511</td>\n",
              "      <td>483880</td>\n",
              "      <td>NaN</td>\n",
              "      <td>NaN</td>\n",
              "      <td>NaN</td>\n",
              "      <td>15475</td>\n",
              "      <td>3865</td>\n",
              "      <td>NaN</td>\n",
              "      <td>NaN</td>\n",
              "      <td>NaN</td>\n",
              "      <td>NaN</td>\n",
              "      <td>NaN</td>\n",
              "      <td>NaN</td>\n",
              "      <td>NaN</td>\n",
              "      <td>NaN</td>\n",
              "      <td>NaN</td>\n",
              "      <td>NaN</td>\n",
              "      <td>NaN</td>\n",
              "      <td>NaN</td>\n",
              "      <td>NaN</td>\n",
              "      <td>NaN</td>\n",
              "      <td>NaN</td>\n",
              "      <td>NaN</td>\n",
              "      <td>NaN</td>\n",
              "      <td>NaN</td>\n",
              "      <td>NaN</td>\n",
              "      <td>NaN</td>\n",
              "      <td>NaN</td>\n",
              "      <td>NaN</td>\n",
              "      <td>NaN</td>\n",
              "      <td>NaN</td>\n",
              "      <td>NaN</td>\n",
              "      <td>NaN</td>\n",
              "      <td>NaN</td>\n",
              "      <td>NaN</td>\n",
              "      <td>NaN</td>\n",
              "      <td>NaN</td>\n",
              "      <td>NaN</td>\n",
              "      <td>NaN</td>\n",
              "      <td>NaN</td>\n",
              "      <td>NaN</td>\n",
              "    </tr>\n",
              "    <tr>\n",
              "      <th>AM0005</th>\n",
              "      <td>AM</td>\n",
              "      <td>1987</td>\n",
              "      <td>2024</td>\n",
              "      <td>NaN</td>\n",
              "      <td>TX</td>\n",
              "      <td>12000000</td>\n",
              "      <td>39</td>\n",
              "      <td>NaN</td>\n",
              "      <td>ICE CREAM</td>\n",
              "      <td>5</td>\n",
              "      <td>2000</td>\n",
              "      <td>2080</td>\n",
              "      <td>7</td>\n",
              "      <td>174617</td>\n",
              "      <td>2868113</td>\n",
              "      <td>NaN</td>\n",
              "      <td>NaN</td>\n",
              "      <td>NaN</td>\n",
              "      <td>10448</td>\n",
              "      <td>2903</td>\n",
              "      <td>NaN</td>\n",
              "      <td>NaN</td>\n",
              "      <td>NaN</td>\n",
              "      <td>NaN</td>\n",
              "      <td>NaN</td>\n",
              "      <td>NaN</td>\n",
              "      <td>NaN</td>\n",
              "      <td>NaN</td>\n",
              "      <td>NaN</td>\n",
              "      <td>NaN</td>\n",
              "      <td>NaN</td>\n",
              "      <td>NaN</td>\n",
              "      <td>NaN</td>\n",
              "      <td>NaN</td>\n",
              "      <td>NaN</td>\n",
              "      <td>NaN</td>\n",
              "      <td>NaN</td>\n",
              "      <td>NaN</td>\n",
              "      <td>NaN</td>\n",
              "      <td>NaN</td>\n",
              "      <td>NaN</td>\n",
              "      <td>NaN</td>\n",
              "      <td>NaN</td>\n",
              "      <td>NaN</td>\n",
              "      <td>NaN</td>\n",
              "      <td>NaN</td>\n",
              "      <td>NaN</td>\n",
              "      <td>NaN</td>\n",
              "      <td>NaN</td>\n",
              "      <td>NaN</td>\n",
              "      <td>NaN</td>\n",
              "      <td>NaN</td>\n",
              "      <td>NaN</td>\n",
              "      <td>NaN</td>\n",
              "    </tr>\n",
              "    <tr>\n",
              "      <th>...</th>\n",
              "      <td>...</td>\n",
              "      <td>...</td>\n",
              "      <td>...</td>\n",
              "      <td>...</td>\n",
              "      <td>...</td>\n",
              "      <td>...</td>\n",
              "      <td>...</td>\n",
              "      <td>...</td>\n",
              "      <td>...</td>\n",
              "      <td>...</td>\n",
              "      <td>...</td>\n",
              "      <td>...</td>\n",
              "      <td>...</td>\n",
              "      <td>...</td>\n",
              "      <td>...</td>\n",
              "      <td>...</td>\n",
              "      <td>...</td>\n",
              "      <td>...</td>\n",
              "      <td>...</td>\n",
              "      <td>...</td>\n",
              "      <td>...</td>\n",
              "      <td>...</td>\n",
              "      <td>...</td>\n",
              "      <td>...</td>\n",
              "      <td>...</td>\n",
              "      <td>...</td>\n",
              "      <td>...</td>\n",
              "      <td>...</td>\n",
              "      <td>...</td>\n",
              "      <td>...</td>\n",
              "      <td>...</td>\n",
              "      <td>...</td>\n",
              "      <td>...</td>\n",
              "      <td>...</td>\n",
              "      <td>...</td>\n",
              "      <td>...</td>\n",
              "      <td>...</td>\n",
              "      <td>...</td>\n",
              "      <td>...</td>\n",
              "      <td>...</td>\n",
              "      <td>...</td>\n",
              "      <td>...</td>\n",
              "      <td>...</td>\n",
              "      <td>...</td>\n",
              "      <td>...</td>\n",
              "      <td>...</td>\n",
              "      <td>...</td>\n",
              "      <td>...</td>\n",
              "      <td>...</td>\n",
              "      <td>...</td>\n",
              "      <td>...</td>\n",
              "      <td>...</td>\n",
              "      <td>...</td>\n",
              "      <td>...</td>\n",
              "    </tr>\n",
              "    <tr>\n",
              "      <th>WV0599</th>\n",
              "      <td>WV</td>\n",
              "      <td>2020</td>\n",
              "      <td>2812</td>\n",
              "      <td>325180</td>\n",
              "      <td>WV</td>\n",
              "      <td>9.12e+07</td>\n",
              "      <td>232</td>\n",
              "      <td>865000</td>\n",
              "      <td>Chlorinated Dry Bleach</td>\n",
              "      <td>2</td>\n",
              "      <td>5.17e+07</td>\n",
              "      <td>8400</td>\n",
              "      <td>14</td>\n",
              "      <td>1.28201e+06</td>\n",
              "      <td>3.8688e+07</td>\n",
              "      <td>940893</td>\n",
              "      <td>62717</td>\n",
              "      <td>114518</td>\n",
              "      <td>611704</td>\n",
              "      <td>206312</td>\n",
              "      <td>NaN</td>\n",
              "      <td>NaN</td>\n",
              "      <td>NaN</td>\n",
              "      <td>NaN</td>\n",
              "      <td>NaN</td>\n",
              "      <td>NaN</td>\n",
              "      <td>NaN</td>\n",
              "      <td>NaN</td>\n",
              "      <td>NaN</td>\n",
              "      <td>NaN</td>\n",
              "      <td>NaN</td>\n",
              "      <td>NaN</td>\n",
              "      <td>NaN</td>\n",
              "      <td>NaN</td>\n",
              "      <td>NaN</td>\n",
              "      <td>NaN</td>\n",
              "      <td>NaN</td>\n",
              "      <td>NaN</td>\n",
              "      <td>NaN</td>\n",
              "      <td>NaN</td>\n",
              "      <td>1.31439e+06</td>\n",
              "      <td>194544</td>\n",
              "      <td>181045</td>\n",
              "      <td>194544</td>\n",
              "      <td>NaN</td>\n",
              "      <td>NaN</td>\n",
              "      <td>NaN</td>\n",
              "      <td>NaN</td>\n",
              "      <td>NaN</td>\n",
              "      <td>NaN</td>\n",
              "      <td>NaN</td>\n",
              "      <td>NaN</td>\n",
              "      <td>NaN</td>\n",
              "      <td>NaN</td>\n",
              "    </tr>\n",
              "    <tr>\n",
              "      <th>WV0600</th>\n",
              "      <td>WV</td>\n",
              "      <td>2020</td>\n",
              "      <td>4581</td>\n",
              "      <td>488119</td>\n",
              "      <td>WV</td>\n",
              "      <td>2.9e+06</td>\n",
              "      <td>11</td>\n",
              "      <td>64121</td>\n",
              "      <td>Domestic Airport</td>\n",
              "      <td>NaN</td>\n",
              "      <td>5000</td>\n",
              "      <td>8760</td>\n",
              "      <td>6</td>\n",
              "      <td>34170</td>\n",
              "      <td>747835</td>\n",
              "      <td>30090</td>\n",
              "      <td>1788</td>\n",
              "      <td>1560</td>\n",
              "      <td>34489</td>\n",
              "      <td>4818</td>\n",
              "      <td>NaN</td>\n",
              "      <td>NaN</td>\n",
              "      <td>NaN</td>\n",
              "      <td>NaN</td>\n",
              "      <td>NaN</td>\n",
              "      <td>NaN</td>\n",
              "      <td>NaN</td>\n",
              "      <td>NaN</td>\n",
              "      <td>NaN</td>\n",
              "      <td>NaN</td>\n",
              "      <td>NaN</td>\n",
              "      <td>NaN</td>\n",
              "      <td>NaN</td>\n",
              "      <td>NaN</td>\n",
              "      <td>NaN</td>\n",
              "      <td>NaN</td>\n",
              "      <td>NaN</td>\n",
              "      <td>NaN</td>\n",
              "      <td>NaN</td>\n",
              "      <td>NaN</td>\n",
              "      <td>NaN</td>\n",
              "      <td>NaN</td>\n",
              "      <td>NaN</td>\n",
              "      <td>NaN</td>\n",
              "      <td>NaN</td>\n",
              "      <td>NaN</td>\n",
              "      <td>NaN</td>\n",
              "      <td>NaN</td>\n",
              "      <td>NaN</td>\n",
              "      <td>NaN</td>\n",
              "      <td>NaN</td>\n",
              "      <td>NaN</td>\n",
              "      <td>NaN</td>\n",
              "      <td>NaN</td>\n",
              "    </tr>\n",
              "    <tr>\n",
              "      <th>WV0601</th>\n",
              "      <td>WV</td>\n",
              "      <td>2020</td>\n",
              "      <td>2085</td>\n",
              "      <td>312140</td>\n",
              "      <td>WV</td>\n",
              "      <td>1e+07</td>\n",
              "      <td>28</td>\n",
              "      <td>6766</td>\n",
              "      <td>Distilled Spirits</td>\n",
              "      <td>5</td>\n",
              "      <td>159</td>\n",
              "      <td>8400</td>\n",
              "      <td>10</td>\n",
              "      <td>29162</td>\n",
              "      <td>746827</td>\n",
              "      <td>36410</td>\n",
              "      <td>2107</td>\n",
              "      <td>2014</td>\n",
              "      <td>71556</td>\n",
              "      <td>10194</td>\n",
              "      <td>1330</td>\n",
              "      <td>66</td>\n",
              "      <td>NaN</td>\n",
              "      <td>NaN</td>\n",
              "      <td>NaN</td>\n",
              "      <td>NaN</td>\n",
              "      <td>NaN</td>\n",
              "      <td>NaN</td>\n",
              "      <td>NaN</td>\n",
              "      <td>NaN</td>\n",
              "      <td>NaN</td>\n",
              "      <td>NaN</td>\n",
              "      <td>NaN</td>\n",
              "      <td>NaN</td>\n",
              "      <td>NaN</td>\n",
              "      <td>NaN</td>\n",
              "      <td>NaN</td>\n",
              "      <td>NaN</td>\n",
              "      <td>NaN</td>\n",
              "      <td>NaN</td>\n",
              "      <td>NaN</td>\n",
              "      <td>NaN</td>\n",
              "      <td>NaN</td>\n",
              "      <td>NaN</td>\n",
              "      <td>91800</td>\n",
              "      <td>540000</td>\n",
              "      <td>NaN</td>\n",
              "      <td>NaN</td>\n",
              "      <td>24550</td>\n",
              "      <td>54000</td>\n",
              "      <td>NaN</td>\n",
              "      <td>NaN</td>\n",
              "      <td>15085</td>\n",
              "      <td>2.01135e+06</td>\n",
              "    </tr>\n",
              "    <tr>\n",
              "      <th>WV0602</th>\n",
              "      <td>WV</td>\n",
              "      <td>2020</td>\n",
              "      <td>2099</td>\n",
              "      <td>311999</td>\n",
              "      <td>PA</td>\n",
              "      <td>6e+07</td>\n",
              "      <td>66</td>\n",
              "      <td>83500</td>\n",
              "      <td>Release Agents and Icing Stabilizers</td>\n",
              "      <td>2</td>\n",
              "      <td>6e+07</td>\n",
              "      <td>4680</td>\n",
              "      <td>10</td>\n",
              "      <td>55011</td>\n",
              "      <td>1.58688e+06</td>\n",
              "      <td>76286</td>\n",
              "      <td>6954</td>\n",
              "      <td>1585</td>\n",
              "      <td>137263</td>\n",
              "      <td>20705</td>\n",
              "      <td>NaN</td>\n",
              "      <td>NaN</td>\n",
              "      <td>NaN</td>\n",
              "      <td>NaN</td>\n",
              "      <td>NaN</td>\n",
              "      <td>NaN</td>\n",
              "      <td>NaN</td>\n",
              "      <td>NaN</td>\n",
              "      <td>NaN</td>\n",
              "      <td>NaN</td>\n",
              "      <td>NaN</td>\n",
              "      <td>NaN</td>\n",
              "      <td>NaN</td>\n",
              "      <td>NaN</td>\n",
              "      <td>NaN</td>\n",
              "      <td>NaN</td>\n",
              "      <td>NaN</td>\n",
              "      <td>NaN</td>\n",
              "      <td>NaN</td>\n",
              "      <td>NaN</td>\n",
              "      <td>NaN</td>\n",
              "      <td>NaN</td>\n",
              "      <td>NaN</td>\n",
              "      <td>NaN</td>\n",
              "      <td>NaN</td>\n",
              "      <td>NaN</td>\n",
              "      <td>NaN</td>\n",
              "      <td>NaN</td>\n",
              "      <td>NaN</td>\n",
              "      <td>NaN</td>\n",
              "      <td>NaN</td>\n",
              "      <td>NaN</td>\n",
              "      <td>NaN</td>\n",
              "      <td>NaN</td>\n",
              "    </tr>\n",
              "    <tr>\n",
              "      <th>WV0603</th>\n",
              "      <td>WV</td>\n",
              "      <td>2020</td>\n",
              "      <td>3275</td>\n",
              "      <td>327420</td>\n",
              "      <td>WV</td>\n",
              "      <td>5.7e+07</td>\n",
              "      <td>112</td>\n",
              "      <td>490000</td>\n",
              "      <td>Drywall</td>\n",
              "      <td>NaN</td>\n",
              "      <td>4.8e+06</td>\n",
              "      <td>8736</td>\n",
              "      <td>10</td>\n",
              "      <td>1.00346e+06</td>\n",
              "      <td>2.86169e+07</td>\n",
              "      <td>922190</td>\n",
              "      <td>55244</td>\n",
              "      <td>4140</td>\n",
              "      <td>2.70561e+06</td>\n",
              "      <td>2.44385e+06</td>\n",
              "      <td>NaN</td>\n",
              "      <td>NaN</td>\n",
              "      <td>NaN</td>\n",
              "      <td>NaN</td>\n",
              "      <td>NaN</td>\n",
              "      <td>NaN</td>\n",
              "      <td>NaN</td>\n",
              "      <td>NaN</td>\n",
              "      <td>NaN</td>\n",
              "      <td>NaN</td>\n",
              "      <td>NaN</td>\n",
              "      <td>NaN</td>\n",
              "      <td>NaN</td>\n",
              "      <td>NaN</td>\n",
              "      <td>NaN</td>\n",
              "      <td>NaN</td>\n",
              "      <td>NaN</td>\n",
              "      <td>NaN</td>\n",
              "      <td>NaN</td>\n",
              "      <td>NaN</td>\n",
              "      <td>NaN</td>\n",
              "      <td>NaN</td>\n",
              "      <td>NaN</td>\n",
              "      <td>NaN</td>\n",
              "      <td>NaN</td>\n",
              "      <td>NaN</td>\n",
              "      <td>NaN</td>\n",
              "      <td>NaN</td>\n",
              "      <td>NaN</td>\n",
              "      <td>NaN</td>\n",
              "      <td>NaN</td>\n",
              "      <td>NaN</td>\n",
              "      <td>NaN</td>\n",
              "      <td>NaN</td>\n",
              "    </tr>\n",
              "  </tbody>\n",
              "</table>\n",
              "<p>19401 rows × 54 columns</p>\n",
              "</div>"
            ],
            "text/plain": [
              "0      CENTER    FY   SIC  ... W5_plant_usage W6_plant_cost W6_plant_usage\n",
              "ID                         ...                                            \n",
              "AM0001     AM  1987  3671  ...            NaN           NaN            NaN\n",
              "AM0002     AM  1987  2761  ...            NaN           NaN            NaN\n",
              "AM0003     AM  1987  3494  ...            NaN           NaN            NaN\n",
              "AM0004     AM  1987  3713  ...            NaN           NaN            NaN\n",
              "AM0005     AM  1987  2024  ...            NaN           NaN            NaN\n",
              "...       ...   ...   ...  ...            ...           ...            ...\n",
              "WV0599     WV  2020  2812  ...            NaN           NaN            NaN\n",
              "WV0600     WV  2020  4581  ...            NaN           NaN            NaN\n",
              "WV0601     WV  2020  2085  ...            NaN         15085    2.01135e+06\n",
              "WV0602     WV  2020  2099  ...            NaN           NaN            NaN\n",
              "WV0603     WV  2020  3275  ...            NaN           NaN            NaN\n",
              "\n",
              "[19401 rows x 54 columns]"
            ]
          },
          "metadata": {},
          "execution_count": 15
        }
      ]
    },
    {
      "cell_type": "markdown",
      "metadata": {
        "id": "collective-excuse"
      },
      "source": [
        "**5. [1 point] Create a new table with just the following columns: SIC, FY, STATE, PLANT_AREA, EC_plant_usage, and PRODUCTS.**"
      ],
      "id": "collective-excuse"
    },
    {
      "cell_type": "code",
      "metadata": {
        "id": "necessary-traffic",
        "colab": {
          "base_uri": "https://localhost:8080/",
          "height": 455
        },
        "outputId": "a2073b2d-692c-4ea4-ab57-2a010ea5edd0"
      },
      "source": [
        "##### YOUR CODE HERE #######                                                               # Code sourced from: https://pandas.pydata.org/docs/getting_started/intro_tutorials/03_subset_data.html\n",
        "data = data[[\"SIC\", \"FY\", \"STATE\", \"PLANT_AREA\", \"EC_plant_usage\", \"PRODUCTS\"]]            # Create new filtered data for desired columns\n",
        "data                                                                                       # Print filtered data to verify code working as intended\n",
        "############################"
      ],
      "id": "necessary-traffic",
      "execution_count": 16,
      "outputs": [
        {
          "output_type": "execute_result",
          "data": {
            "text/html": [
              "<div>\n",
              "<style scoped>\n",
              "    .dataframe tbody tr th:only-of-type {\n",
              "        vertical-align: middle;\n",
              "    }\n",
              "\n",
              "    .dataframe tbody tr th {\n",
              "        vertical-align: top;\n",
              "    }\n",
              "\n",
              "    .dataframe thead th {\n",
              "        text-align: right;\n",
              "    }\n",
              "</style>\n",
              "<table border=\"1\" class=\"dataframe\">\n",
              "  <thead>\n",
              "    <tr style=\"text-align: right;\">\n",
              "      <th></th>\n",
              "      <th>SIC</th>\n",
              "      <th>FY</th>\n",
              "      <th>STATE</th>\n",
              "      <th>PLANT_AREA</th>\n",
              "      <th>EC_plant_usage</th>\n",
              "      <th>PRODUCTS</th>\n",
              "    </tr>\n",
              "    <tr>\n",
              "      <th>ID</th>\n",
              "      <th></th>\n",
              "      <th></th>\n",
              "      <th></th>\n",
              "      <th></th>\n",
              "      <th></th>\n",
              "      <th></th>\n",
              "    </tr>\n",
              "  </thead>\n",
              "  <tbody>\n",
              "    <tr>\n",
              "      <th>AM0001</th>\n",
              "      <td>3671</td>\n",
              "      <td>1987</td>\n",
              "      <td>TX</td>\n",
              "      <td>NaN</td>\n",
              "      <td>2560082</td>\n",
              "      <td>MICRO &amp; MINI COMPUTERS</td>\n",
              "    </tr>\n",
              "    <tr>\n",
              "      <th>AM0002</th>\n",
              "      <td>2761</td>\n",
              "      <td>1987</td>\n",
              "      <td>TX</td>\n",
              "      <td>NaN</td>\n",
              "      <td>4867233</td>\n",
              "      <td>BUSINESS FORMS</td>\n",
              "    </tr>\n",
              "    <tr>\n",
              "      <th>AM0003</th>\n",
              "      <td>3494</td>\n",
              "      <td>1987</td>\n",
              "      <td>TX</td>\n",
              "      <td>NaN</td>\n",
              "      <td>1723036</td>\n",
              "      <td>SAFETY JOINTS &amp; VALVES</td>\n",
              "    </tr>\n",
              "    <tr>\n",
              "      <th>AM0004</th>\n",
              "      <td>3713</td>\n",
              "      <td>1987</td>\n",
              "      <td>TX</td>\n",
              "      <td>NaN</td>\n",
              "      <td>483880</td>\n",
              "      <td>TRUCKS BEDS &amp; TRAILERS</td>\n",
              "    </tr>\n",
              "    <tr>\n",
              "      <th>AM0005</th>\n",
              "      <td>2024</td>\n",
              "      <td>1987</td>\n",
              "      <td>TX</td>\n",
              "      <td>NaN</td>\n",
              "      <td>2868113</td>\n",
              "      <td>ICE CREAM</td>\n",
              "    </tr>\n",
              "    <tr>\n",
              "      <th>...</th>\n",
              "      <td>...</td>\n",
              "      <td>...</td>\n",
              "      <td>...</td>\n",
              "      <td>...</td>\n",
              "      <td>...</td>\n",
              "      <td>...</td>\n",
              "    </tr>\n",
              "    <tr>\n",
              "      <th>WV0599</th>\n",
              "      <td>2812</td>\n",
              "      <td>2020</td>\n",
              "      <td>WV</td>\n",
              "      <td>865000</td>\n",
              "      <td>3.8688e+07</td>\n",
              "      <td>Chlorinated Dry Bleach</td>\n",
              "    </tr>\n",
              "    <tr>\n",
              "      <th>WV0600</th>\n",
              "      <td>4581</td>\n",
              "      <td>2020</td>\n",
              "      <td>WV</td>\n",
              "      <td>64121</td>\n",
              "      <td>747835</td>\n",
              "      <td>Domestic Airport</td>\n",
              "    </tr>\n",
              "    <tr>\n",
              "      <th>WV0601</th>\n",
              "      <td>2085</td>\n",
              "      <td>2020</td>\n",
              "      <td>WV</td>\n",
              "      <td>6766</td>\n",
              "      <td>746827</td>\n",
              "      <td>Distilled Spirits</td>\n",
              "    </tr>\n",
              "    <tr>\n",
              "      <th>WV0602</th>\n",
              "      <td>2099</td>\n",
              "      <td>2020</td>\n",
              "      <td>PA</td>\n",
              "      <td>83500</td>\n",
              "      <td>1.58688e+06</td>\n",
              "      <td>Release Agents and Icing Stabilizers</td>\n",
              "    </tr>\n",
              "    <tr>\n",
              "      <th>WV0603</th>\n",
              "      <td>3275</td>\n",
              "      <td>2020</td>\n",
              "      <td>WV</td>\n",
              "      <td>490000</td>\n",
              "      <td>2.86169e+07</td>\n",
              "      <td>Drywall</td>\n",
              "    </tr>\n",
              "  </tbody>\n",
              "</table>\n",
              "<p>19401 rows × 6 columns</p>\n",
              "</div>"
            ],
            "text/plain": [
              "0        SIC    FY  ... EC_plant_usage                              PRODUCTS\n",
              "ID                  ...                                                     \n",
              "AM0001  3671  1987  ...        2560082                MICRO & MINI COMPUTERS\n",
              "AM0002  2761  1987  ...        4867233                        BUSINESS FORMS\n",
              "AM0003  3494  1987  ...        1723036                SAFETY JOINTS & VALVES\n",
              "AM0004  3713  1987  ...         483880                TRUCKS BEDS & TRAILERS\n",
              "AM0005  2024  1987  ...        2868113                             ICE CREAM\n",
              "...      ...   ...  ...            ...                                   ...\n",
              "WV0599  2812  2020  ...     3.8688e+07                Chlorinated Dry Bleach\n",
              "WV0600  4581  2020  ...         747835                      Domestic Airport\n",
              "WV0601  2085  2020  ...         746827                     Distilled Spirits\n",
              "WV0602  2099  2020  ...    1.58688e+06  Release Agents and Icing Stabilizers\n",
              "WV0603  3275  2020  ...    2.86169e+07                               Drywall\n",
              "\n",
              "[19401 rows x 6 columns]"
            ]
          },
          "metadata": {},
          "execution_count": 16
        }
      ]
    },
    {
      "cell_type": "markdown",
      "metadata": {
        "id": "municipal-compound"
      },
      "source": [
        "**6. [1 point] Remove the records that have a missing value in any column, and report the number of records remaining (i.e. the number of rows without missing values in any column).**\n",
        ">Hint: Use *data.dropna()*"
      ],
      "id": "municipal-compound"
    },
    {
      "cell_type": "code",
      "metadata": {
        "id": "thousand-wilson",
        "colab": {
          "base_uri": "https://localhost:8080/",
          "height": 472
        },
        "outputId": "3e0ba6cf-adfa-4b45-8e8e-3dfbab4c2ea4"
      },
      "source": [
        "##### YOUR CODE HERE #######                               # Code sourced from: https://www.kite.com/python/answers/how-to-count-the-number-of-rows-in-a-pandas-dataframe-in-python\n",
        "data = data.dropna()                                       # Define new data set after after dropping data missing any value in any column. This is the default function of data.dropna()\n",
        "print(\"Number of Records Remaining:\", len(data))           # Print the number of records remaining\n",
        "data                                                       # Display data  \n",
        "############################"
      ],
      "id": "thousand-wilson",
      "execution_count": 17,
      "outputs": [
        {
          "output_type": "stream",
          "name": "stdout",
          "text": [
            "Number of Records Remaining: 15250\n"
          ]
        },
        {
          "output_type": "execute_result",
          "data": {
            "text/html": [
              "<div>\n",
              "<style scoped>\n",
              "    .dataframe tbody tr th:only-of-type {\n",
              "        vertical-align: middle;\n",
              "    }\n",
              "\n",
              "    .dataframe tbody tr th {\n",
              "        vertical-align: top;\n",
              "    }\n",
              "\n",
              "    .dataframe thead th {\n",
              "        text-align: right;\n",
              "    }\n",
              "</style>\n",
              "<table border=\"1\" class=\"dataframe\">\n",
              "  <thead>\n",
              "    <tr style=\"text-align: right;\">\n",
              "      <th></th>\n",
              "      <th>SIC</th>\n",
              "      <th>FY</th>\n",
              "      <th>STATE</th>\n",
              "      <th>PLANT_AREA</th>\n",
              "      <th>EC_plant_usage</th>\n",
              "      <th>PRODUCTS</th>\n",
              "    </tr>\n",
              "    <tr>\n",
              "      <th>ID</th>\n",
              "      <th></th>\n",
              "      <th></th>\n",
              "      <th></th>\n",
              "      <th></th>\n",
              "      <th></th>\n",
              "      <th></th>\n",
              "    </tr>\n",
              "  </thead>\n",
              "  <tbody>\n",
              "    <tr>\n",
              "      <th>AM0159</th>\n",
              "      <td>3412</td>\n",
              "      <td>1992</td>\n",
              "      <td>TX</td>\n",
              "      <td>242000</td>\n",
              "      <td>4800703</td>\n",
              "      <td>STEEL SHIPPING CONTAINERS</td>\n",
              "    </tr>\n",
              "    <tr>\n",
              "      <th>AM0162</th>\n",
              "      <td>3731</td>\n",
              "      <td>1992</td>\n",
              "      <td>TX</td>\n",
              "      <td>5900</td>\n",
              "      <td>1145369</td>\n",
              "      <td>ship repair</td>\n",
              "    </tr>\n",
              "    <tr>\n",
              "      <th>AM0165</th>\n",
              "      <td>2677</td>\n",
              "      <td>1992</td>\n",
              "      <td>TX</td>\n",
              "      <td>125000</td>\n",
              "      <td>5907093</td>\n",
              "      <td>envelopes</td>\n",
              "    </tr>\n",
              "    <tr>\n",
              "      <th>AM0166</th>\n",
              "      <td>3221</td>\n",
              "      <td>1993</td>\n",
              "      <td>TX</td>\n",
              "      <td>409000</td>\n",
              "      <td>39709555</td>\n",
              "      <td>glass containers</td>\n",
              "    </tr>\n",
              "    <tr>\n",
              "      <th>AM0167</th>\n",
              "      <td>2869</td>\n",
              "      <td>1993</td>\n",
              "      <td>TX</td>\n",
              "      <td>1742400</td>\n",
              "      <td>29940211</td>\n",
              "      <td>fuel additives &amp; lubricants</td>\n",
              "    </tr>\n",
              "    <tr>\n",
              "      <th>...</th>\n",
              "      <td>...</td>\n",
              "      <td>...</td>\n",
              "      <td>...</td>\n",
              "      <td>...</td>\n",
              "      <td>...</td>\n",
              "      <td>...</td>\n",
              "    </tr>\n",
              "    <tr>\n",
              "      <th>WV0599</th>\n",
              "      <td>2812</td>\n",
              "      <td>2020</td>\n",
              "      <td>WV</td>\n",
              "      <td>865000</td>\n",
              "      <td>3.8688e+07</td>\n",
              "      <td>Chlorinated Dry Bleach</td>\n",
              "    </tr>\n",
              "    <tr>\n",
              "      <th>WV0600</th>\n",
              "      <td>4581</td>\n",
              "      <td>2020</td>\n",
              "      <td>WV</td>\n",
              "      <td>64121</td>\n",
              "      <td>747835</td>\n",
              "      <td>Domestic Airport</td>\n",
              "    </tr>\n",
              "    <tr>\n",
              "      <th>WV0601</th>\n",
              "      <td>2085</td>\n",
              "      <td>2020</td>\n",
              "      <td>WV</td>\n",
              "      <td>6766</td>\n",
              "      <td>746827</td>\n",
              "      <td>Distilled Spirits</td>\n",
              "    </tr>\n",
              "    <tr>\n",
              "      <th>WV0602</th>\n",
              "      <td>2099</td>\n",
              "      <td>2020</td>\n",
              "      <td>PA</td>\n",
              "      <td>83500</td>\n",
              "      <td>1.58688e+06</td>\n",
              "      <td>Release Agents and Icing Stabilizers</td>\n",
              "    </tr>\n",
              "    <tr>\n",
              "      <th>WV0603</th>\n",
              "      <td>3275</td>\n",
              "      <td>2020</td>\n",
              "      <td>WV</td>\n",
              "      <td>490000</td>\n",
              "      <td>2.86169e+07</td>\n",
              "      <td>Drywall</td>\n",
              "    </tr>\n",
              "  </tbody>\n",
              "</table>\n",
              "<p>15250 rows × 6 columns</p>\n",
              "</div>"
            ],
            "text/plain": [
              "0        SIC    FY  ... EC_plant_usage                              PRODUCTS\n",
              "ID                  ...                                                     \n",
              "AM0159  3412  1992  ...        4800703             STEEL SHIPPING CONTAINERS\n",
              "AM0162  3731  1992  ...        1145369                           ship repair\n",
              "AM0165  2677  1992  ...        5907093                             envelopes\n",
              "AM0166  3221  1993  ...       39709555                      glass containers\n",
              "AM0167  2869  1993  ...       29940211           fuel additives & lubricants\n",
              "...      ...   ...  ...            ...                                   ...\n",
              "WV0599  2812  2020  ...     3.8688e+07                Chlorinated Dry Bleach\n",
              "WV0600  4581  2020  ...         747835                      Domestic Airport\n",
              "WV0601  2085  2020  ...         746827                     Distilled Spirits\n",
              "WV0602  2099  2020  ...    1.58688e+06  Release Agents and Icing Stabilizers\n",
              "WV0603  3275  2020  ...    2.86169e+07                               Drywall\n",
              "\n",
              "[15250 rows x 6 columns]"
            ]
          },
          "metadata": {},
          "execution_count": 17
        }
      ]
    },
    {
      "cell_type": "code",
      "metadata": {
        "colab": {
          "base_uri": "https://localhost:8080/",
          "height": 49,
          "referenced_widgets": [
            "01fa5ea0d55f4957b783e3823557aa9d",
            "a83e36705732462a954f22d9a62a7fb4",
            "c92ecc8da04c432f85f8c46f3842f11b"
          ]
        },
        "id": "absent-brisbane",
        "jupyter": {
          "source_hidden": true
        },
        "outputId": "f6aaeb1e-653d-4c79-b615-bd65bb9322d9"
      },
      "source": [
        "widgets.Text(\n",
        "    value='',\n",
        "    placeholder='Type something',\n",
        "    description='Answer:',\n",
        "    disabled=False\n",
        ")"
      ],
      "id": "absent-brisbane",
      "execution_count": null,
      "outputs": [
        {
          "output_type": "display_data",
          "data": {
            "application/vnd.jupyter.widget-view+json": {
              "model_id": "01fa5ea0d55f4957b783e3823557aa9d",
              "version_minor": 0,
              "version_major": 2
            },
            "text/plain": [
              "Text(value='', description='Answer:', placeholder='Type something')"
            ]
          },
          "metadata": {}
        }
      ]
    },
    {
      "cell_type": "markdown",
      "metadata": {
        "id": "hindu-andrews"
      },
      "source": [
        "**7. [1 point] Convert the following columns to floating point (float) for PLANT_AREA and EC_plant_usage, convert the FY (Fiscal Year) column to integer (int), and convert the following columns to string (str), SIC, STATE, PRODUCTS.**\n",
        ">Hint: Use the *data.astype* command."
      ],
      "id": "hindu-andrews"
    },
    {
      "cell_type": "code",
      "metadata": {
        "id": "continent-yellow",
        "colab": {
          "base_uri": "https://localhost:8080/",
          "height": 455
        },
        "outputId": "61d9e54e-0441-418b-b24e-ca21281535df"
      },
      "source": [
        "##### YOUR CODE HERE #######\n",
        "data = data.astype({'PLANT_AREA':float, 'EC_plant_usage':float, 'FY': int, 'SIC':str, 'STATE':str, 'PRODUCTS':str})\n",
        "data\n",
        "############################"
      ],
      "id": "continent-yellow",
      "execution_count": 20,
      "outputs": [
        {
          "output_type": "execute_result",
          "data": {
            "text/html": [
              "<div>\n",
              "<style scoped>\n",
              "    .dataframe tbody tr th:only-of-type {\n",
              "        vertical-align: middle;\n",
              "    }\n",
              "\n",
              "    .dataframe tbody tr th {\n",
              "        vertical-align: top;\n",
              "    }\n",
              "\n",
              "    .dataframe thead th {\n",
              "        text-align: right;\n",
              "    }\n",
              "</style>\n",
              "<table border=\"1\" class=\"dataframe\">\n",
              "  <thead>\n",
              "    <tr style=\"text-align: right;\">\n",
              "      <th></th>\n",
              "      <th>SIC</th>\n",
              "      <th>FY</th>\n",
              "      <th>STATE</th>\n",
              "      <th>PLANT_AREA</th>\n",
              "      <th>EC_plant_usage</th>\n",
              "      <th>PRODUCTS</th>\n",
              "    </tr>\n",
              "    <tr>\n",
              "      <th>ID</th>\n",
              "      <th></th>\n",
              "      <th></th>\n",
              "      <th></th>\n",
              "      <th></th>\n",
              "      <th></th>\n",
              "      <th></th>\n",
              "    </tr>\n",
              "  </thead>\n",
              "  <tbody>\n",
              "    <tr>\n",
              "      <th>AM0159</th>\n",
              "      <td>3412</td>\n",
              "      <td>1992</td>\n",
              "      <td>TX</td>\n",
              "      <td>242000.0</td>\n",
              "      <td>4800703.0</td>\n",
              "      <td>STEEL SHIPPING CONTAINERS</td>\n",
              "    </tr>\n",
              "    <tr>\n",
              "      <th>AM0162</th>\n",
              "      <td>3731</td>\n",
              "      <td>1992</td>\n",
              "      <td>TX</td>\n",
              "      <td>5900.0</td>\n",
              "      <td>1145369.0</td>\n",
              "      <td>ship repair</td>\n",
              "    </tr>\n",
              "    <tr>\n",
              "      <th>AM0165</th>\n",
              "      <td>2677</td>\n",
              "      <td>1992</td>\n",
              "      <td>TX</td>\n",
              "      <td>125000.0</td>\n",
              "      <td>5907093.0</td>\n",
              "      <td>envelopes</td>\n",
              "    </tr>\n",
              "    <tr>\n",
              "      <th>AM0166</th>\n",
              "      <td>3221</td>\n",
              "      <td>1993</td>\n",
              "      <td>TX</td>\n",
              "      <td>409000.0</td>\n",
              "      <td>39709555.0</td>\n",
              "      <td>glass containers</td>\n",
              "    </tr>\n",
              "    <tr>\n",
              "      <th>AM0167</th>\n",
              "      <td>2869</td>\n",
              "      <td>1993</td>\n",
              "      <td>TX</td>\n",
              "      <td>1742400.0</td>\n",
              "      <td>29940211.0</td>\n",
              "      <td>fuel additives &amp; lubricants</td>\n",
              "    </tr>\n",
              "    <tr>\n",
              "      <th>...</th>\n",
              "      <td>...</td>\n",
              "      <td>...</td>\n",
              "      <td>...</td>\n",
              "      <td>...</td>\n",
              "      <td>...</td>\n",
              "      <td>...</td>\n",
              "    </tr>\n",
              "    <tr>\n",
              "      <th>WV0599</th>\n",
              "      <td>2812</td>\n",
              "      <td>2020</td>\n",
              "      <td>WV</td>\n",
              "      <td>865000.0</td>\n",
              "      <td>38688000.0</td>\n",
              "      <td>Chlorinated Dry Bleach</td>\n",
              "    </tr>\n",
              "    <tr>\n",
              "      <th>WV0600</th>\n",
              "      <td>4581</td>\n",
              "      <td>2020</td>\n",
              "      <td>WV</td>\n",
              "      <td>64121.0</td>\n",
              "      <td>747835.0</td>\n",
              "      <td>Domestic Airport</td>\n",
              "    </tr>\n",
              "    <tr>\n",
              "      <th>WV0601</th>\n",
              "      <td>2085</td>\n",
              "      <td>2020</td>\n",
              "      <td>WV</td>\n",
              "      <td>6766.0</td>\n",
              "      <td>746827.0</td>\n",
              "      <td>Distilled Spirits</td>\n",
              "    </tr>\n",
              "    <tr>\n",
              "      <th>WV0602</th>\n",
              "      <td>2099</td>\n",
              "      <td>2020</td>\n",
              "      <td>PA</td>\n",
              "      <td>83500.0</td>\n",
              "      <td>1586882.0</td>\n",
              "      <td>Release Agents and Icing Stabilizers</td>\n",
              "    </tr>\n",
              "    <tr>\n",
              "      <th>WV0603</th>\n",
              "      <td>3275</td>\n",
              "      <td>2020</td>\n",
              "      <td>WV</td>\n",
              "      <td>490000.0</td>\n",
              "      <td>28616874.0</td>\n",
              "      <td>Drywall</td>\n",
              "    </tr>\n",
              "  </tbody>\n",
              "</table>\n",
              "<p>15250 rows × 6 columns</p>\n",
              "</div>"
            ],
            "text/plain": [
              "0        SIC    FY  ... EC_plant_usage                              PRODUCTS\n",
              "ID                  ...                                                     \n",
              "AM0159  3412  1992  ...      4800703.0             STEEL SHIPPING CONTAINERS\n",
              "AM0162  3731  1992  ...      1145369.0                           ship repair\n",
              "AM0165  2677  1992  ...      5907093.0                             envelopes\n",
              "AM0166  3221  1993  ...     39709555.0                      glass containers\n",
              "AM0167  2869  1993  ...     29940211.0           fuel additives & lubricants\n",
              "...      ...   ...  ...            ...                                   ...\n",
              "WV0599  2812  2020  ...     38688000.0                Chlorinated Dry Bleach\n",
              "WV0600  4581  2020  ...       747835.0                      Domestic Airport\n",
              "WV0601  2085  2020  ...       746827.0                     Distilled Spirits\n",
              "WV0602  2099  2020  ...      1586882.0  Release Agents and Icing Stabilizers\n",
              "WV0603  3275  2020  ...     28616874.0                               Drywall\n",
              "\n",
              "[15250 rows x 6 columns]"
            ]
          },
          "metadata": {},
          "execution_count": 20
        }
      ]
    },
    {
      "cell_type": "code",
      "metadata": {
        "colab": {
          "base_uri": "https://localhost:8080/"
        },
        "id": "BcOpjgKsnw2X",
        "outputId": "05ea3365-879f-450d-e4d5-e90aad4c51c4"
      },
      "source": [
        "print (data.dtypes)                    #printing data type for verification purposes"
      ],
      "id": "BcOpjgKsnw2X",
      "execution_count": 21,
      "outputs": [
        {
          "output_type": "stream",
          "name": "stdout",
          "text": [
            "0\n",
            "SIC                object\n",
            "FY                  int64\n",
            "STATE              object\n",
            "PLANT_AREA        float64\n",
            "EC_plant_usage    float64\n",
            "PRODUCTS           object\n",
            "dtype: object\n"
          ]
        }
      ]
    },
    {
      "cell_type": "markdown",
      "metadata": {
        "id": "ranging-aggregate"
      },
      "source": [
        "**8. [1 point] What is the data type provided in each column? [Choose from the data types covered from lecture 2a]**"
      ],
      "id": "ranging-aggregate"
    },
    {
      "cell_type": "code",
      "metadata": {
        "colab": {
          "base_uri": "https://localhost:8080/",
          "height": 111
        },
        "id": "focused-marine",
        "outputId": "ced12599-b1b5-4d0d-8686-82c74a98a1a4"
      },
      "source": [
        "tab_contents = ['FY', 'SIC', 'STATE', 'PLANT_AREA', 'PRODUCTS', 'EC_plant_usage']\n",
        "children = [widgets.Text(description=\"Data Type:\") for name in tab_contents]\n",
        "tab = widgets.Tab()\n",
        "tab.children = children\n",
        "for i in range(len(children)):\n",
        "    tab.set_title(i, str(tab_contents[i]))\n",
        "tab"
      ],
      "id": "focused-marine",
      "execution_count": 10,
      "outputs": [
        {
          "output_type": "display_data",
          "data": {
            "application/vnd.jupyter.widget-view+json": {
              "model_id": "f96b2ce1027e47f49c4a723918615f83",
              "version_minor": 0,
              "version_major": 2
            },
            "text/plain": [
              "Tab(children=(Text(value='', description='Data Type:'), Text(value='', description='Data Type:'), Text(value='…"
            ]
          },
          "metadata": {}
        }
      ]
    },
    {
      "cell_type": "markdown",
      "metadata": {
        "id": "expressed-spencer"
      },
      "source": [
        "**9. [2 points] The data set has too many building types. Select only records for sites that have a Standard Industrial Classification as \"Electronic & Other Electric Equipment\" (SIC starts with 36). (*Hint: Using something like this...   data[' '].str[:2] == \" \"]*  )**"
      ],
      "id": "expressed-spencer"
    },
    {
      "cell_type": "code",
      "metadata": {
        "id": "continuous-jewelry",
        "colab": {
          "base_uri": "https://localhost:8080/"
        },
        "outputId": "f76056d5-0a7f-4e77-dd3a-0fcc9d320d57"
      },
      "source": [
        "##### YOUR CODE HERE #######\n",
        "data.test = data['SIC'].str[:2] == \"36\"\n",
        "data.test\n",
        "############################"
      ],
      "id": "continuous-jewelry",
      "execution_count": 35,
      "outputs": [
        {
          "output_type": "execute_result",
          "data": {
            "text/plain": [
              "ID\n",
              "AM0159    False\n",
              "AM0162    False\n",
              "AM0165    False\n",
              "AM0166    False\n",
              "AM0167    False\n",
              "          ...  \n",
              "WV0599    False\n",
              "WV0600    False\n",
              "WV0601    False\n",
              "WV0602    False\n",
              "WV0603    False\n",
              "Name: SIC, Length: 15250, dtype: bool"
            ]
          },
          "metadata": {},
          "execution_count": 35
        }
      ]
    },
    {
      "cell_type": "markdown",
      "metadata": {
        "id": "effective-increase"
      },
      "source": [
        "**10. [1 point] Create a scatterplot of PLANT_AREA versus EC_plant_usage**\n",
        ">Hint: Use *data.plot.scatter*"
      ],
      "id": "effective-increase"
    },
    {
      "cell_type": "code",
      "metadata": {
        "id": "changing-contractor",
        "colab": {
          "base_uri": "https://localhost:8080/",
          "height": 308
        },
        "outputId": "df27b8dd-e7e1-4584-879e-80d0470ea396"
      },
      "source": [
        "##### YOUR CODE HERE #######\n",
        "data.plot.scatter(x='PLANT_AREA',y='EC_plant_usage')\n",
        "\n",
        "############################"
      ],
      "id": "changing-contractor",
      "execution_count": 29,
      "outputs": [
        {
          "output_type": "execute_result",
          "data": {
            "text/plain": [
              "<matplotlib.axes._subplots.AxesSubplot at 0x7ff2fea9d6d0>"
            ]
          },
          "metadata": {},
          "execution_count": 29
        },
        {
          "output_type": "display_data",
          "data": {
            "image/png": "[encoded data removed]",
            "text/plain": [
              "<Figure size 432x288 with 1 Axes>"
            ]
          },
          "metadata": {
            "needs_background": "light"
          }
        }
      ]
    },
    {
      "cell_type": "markdown",
      "metadata": {
        "id": "ambient-locking"
      },
      "source": [
        "**11. [3 points] Identify and remove outliers, in the 'PLANT_AREA' and 'EC_plant_usage' columns, using the the sklearn Elliptic Envelope Covariance Subroutine (default settings). Create a scatterplot to view the new data.**\n",
        "> HINTS:\n",
        ">* [sklearn outlier detection chapter](https://scikit-learn.org/stable/modules/outlier_detection.html)\n",
        ">* [sklearn outlier detection with covariance elliptic envelope](https://scikit-learn.org/stable/modules/generated/sklearn.covariance.EllipticEnvelope.html)\n",
        ">* Use the outlier detection routine to assign 1 (inlier) or -1 (outlier) as a new column. Create a scatter plot to visualize the inliers & outliers as groups.\n",
        ">>1. Use a subset of the data which is just the two columns. Then, fit the ellipticenvelope to the data.\n",
        ">>2. Make a prediction using the same data and the ellipticenvelope fit (the default output is either 1 for an inlier or -1 for an outlier)\n",
        ">>3. Select just the inliers as your new data table"
      ],
      "id": "ambient-locking"
    },
    {
      "cell_type": "code",
      "metadata": {
        "id": "amateur-machine"
      },
      "source": [
        "##### YOUR CODE HERE #######\n",
        "\n",
        "\n",
        "############################"
      ],
      "id": "amateur-machine",
      "execution_count": null,
      "outputs": []
    },
    {
      "cell_type": "markdown",
      "metadata": {
        "id": "fifth-hospital"
      },
      "source": [
        "**12. [2 points] Calculate the Energy Usage Index for this data, as EUI = EC_plant_usage/PLANT_AREA. Create a histogram of EUI and report the mean EUI for this data.**\n",
        "> HINT: Use last week's example for a reference"
      ],
      "id": "fifth-hospital"
    },
    {
      "cell_type": "code",
      "metadata": {
        "id": "warming-castle"
      },
      "source": [
        "##### YOUR CODE HERE #######\n",
        "\n",
        "\n",
        "############################"
      ],
      "id": "warming-castle",
      "execution_count": null,
      "outputs": []
    },
    {
      "cell_type": "code",
      "metadata": {
        "colab": {
          "base_uri": "https://localhost:8080/",
          "height": 48,
          "referenced_widgets": [
            "cc0e479d7c014230aa91346743ce074d",
            "1943d15771774bc59002b34b41c58acf",
            "0e8ae3eb7f474a95bf78caefb62f2a9d"
          ]
        },
        "id": "skilled-artwork",
        "jupyter": {
          "source_hidden": true
        },
        "outputId": "b4570025-8347-43a3-fc21-62eeae343f42"
      },
      "source": [
        "widgets.Text(\n",
        "    value='',\n",
        "    placeholder='Type something',\n",
        "    description='Answer:',\n",
        "    disabled=False\n",
        ")"
      ],
      "id": "skilled-artwork",
      "execution_count": null,
      "outputs": [
        {
          "output_type": "display_data",
          "data": {
            "application/vnd.jupyter.widget-view+json": {
              "model_id": "cc0e479d7c014230aa91346743ce074d",
              "version_major": 2,
              "version_minor": 0
            },
            "text/plain": [
              "Text(value='', description='Answer:', placeholder='Type something')"
            ]
          },
          "metadata": {
            "tags": []
          }
        }
      ]
    },
    {
      "cell_type": "markdown",
      "metadata": {
        "id": "affecting-words"
      },
      "source": [
        "**13. [3 points] REFLECTION: Write a short paragraph on what you learned, answering the following questions**\n",
        ">* What is your overall assessment of the quality of the raw data? Are there likely to be outliers?\n",
        ">* How confident are you that the outliers identified by the covariance method (EllipticEnvelope), can be removed?\n",
        ">* What future work do you recommend to understand the data better, prior to implementing A.I. techniques?"
      ],
      "id": "affecting-words"
    },
    {
      "cell_type": "code",
      "metadata": {
        "colab": {
          "base_uri": "https://localhost:8080/",
          "height": 48,
          "referenced_widgets": [
            "2e29916adce24145910f81a1f4fe8541",
            "d9ca4b175da34eda8b0f6b6e16b58c6e",
            "eca5c7ea196a4300a77bdbfd2d42c969"
          ]
        },
        "id": "medium-webcam",
        "jupyter": {
          "source_hidden": true
        },
        "outputId": "37ed1d84-0180-4730-df21-fbd154a35b6d"
      },
      "source": [
        "widgets.Text(\n",
        "    value='',\n",
        "    placeholder='Type something',\n",
        "    description='Answer:',\n",
        "    disabled=False\n",
        ")"
      ],
      "id": "medium-webcam",
      "execution_count": null,
      "outputs": [
        {
          "output_type": "display_data",
          "data": {
            "application/vnd.jupyter.widget-view+json": {
              "model_id": "2e29916adce24145910f81a1f4fe8541",
              "version_major": 2,
              "version_minor": 0
            },
            "text/plain": [
              "Text(value='', description='Answer:', placeholder='Type something')"
            ]
          },
          "metadata": {
            "tags": []
          }
        }
      ]
    }
  ]
}