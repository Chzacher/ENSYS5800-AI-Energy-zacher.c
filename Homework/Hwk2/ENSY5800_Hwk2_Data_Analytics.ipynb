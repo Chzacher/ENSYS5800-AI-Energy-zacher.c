{
  "nbformat": 4,
  "nbformat_minor": 5,
  "metadata": {
    "colab": {
      "name": "ENSY5800-Spr21_Hwk1_Solution.ipynb",
      "provenance": [],
      "include_colab_link": true
    },
    "kernelspec": {
      "display_name": "Python 3",
      "language": "python",
      "name": "python3"
    },
    "language_info": {
      "codemirror_mode": {
        "name": "ipython",
        "version": 3
      },
      "file_extension": ".py",
      "mimetype": "text/x-python",
      "name": "python",
      "nbconvert_exporter": "python",
      "pygments_lexer": "ipython3",
      "version": "3.9.2"
    },
    "widgets": {
      "application/vnd.jupyter.widget-state+json": {
        "0a9316f59ed64437ac9323e7c97510d5": {
          "model_module": "@jupyter-widgets/controls",
          "model_name": "RadioButtonsModel",
          "model_module_version": "1.5.0",
          "state": {
            "_dom_classes": [],
            "_model_module": "@jupyter-widgets/controls",
            "_model_module_version": "1.5.0",
            "_model_name": "RadioButtonsModel",
            "_options_labels": [
              "Weak artificial intelligence",
              "Strong artificial intelligence"
            ],
            "_view_count": null,
            "_view_module": "@jupyter-widgets/controls",
            "_view_module_version": "1.5.0",
            "_view_name": "RadioButtonsView",
            "description": " ",
            "description_tooltip": null,
            "disabled": false,
            "index": null,
            "layout": "IPY_MODEL_ca3199b6c3ee4c6991686e4bb43d7ba2",
            "style": "IPY_MODEL_33709da1e3434845925bee320acb9cbd"
          }
        },
        "33709da1e3434845925bee320acb9cbd": {
          "model_module": "@jupyter-widgets/controls",
          "model_name": "DescriptionStyleModel",
          "model_module_version": "1.5.0",
          "state": {
            "_model_module": "@jupyter-widgets/controls",
            "_model_module_version": "1.5.0",
            "_model_name": "DescriptionStyleModel",
            "_view_count": null,
            "_view_module": "@jupyter-widgets/base",
            "_view_module_version": "1.2.0",
            "_view_name": "StyleView",
            "description_width": ""
          }
        },
        "ca3199b6c3ee4c6991686e4bb43d7ba2": {
          "model_module": "@jupyter-widgets/base",
          "model_name": "LayoutModel",
          "model_module_version": "1.2.0",
          "state": {
            "_model_module": "@jupyter-widgets/base",
            "_model_module_version": "1.2.0",
            "_model_name": "LayoutModel",
            "_view_count": null,
            "_view_module": "@jupyter-widgets/base",
            "_view_module_version": "1.2.0",
            "_view_name": "LayoutView",
            "align_content": null,
            "align_items": null,
            "align_self": null,
            "border": null,
            "bottom": null,
            "display": null,
            "flex": null,
            "flex_flow": null,
            "grid_area": null,
            "grid_auto_columns": null,
            "grid_auto_flow": null,
            "grid_auto_rows": null,
            "grid_column": null,
            "grid_gap": null,
            "grid_row": null,
            "grid_template_areas": null,
            "grid_template_columns": null,
            "grid_template_rows": null,
            "height": null,
            "justify_content": null,
            "justify_items": null,
            "left": null,
            "margin": null,
            "max_height": null,
            "max_width": null,
            "min_height": null,
            "min_width": null,
            "object_fit": null,
            "object_position": null,
            "order": null,
            "overflow": null,
            "overflow_x": null,
            "overflow_y": null,
            "padding": null,
            "right": null,
            "top": null,
            "visibility": null,
            "width": null
          }
        },
        "3811609f6eaf421f82cf795c9e7dd59e": {
          "model_module": "@jupyter-widgets/controls",
          "model_name": "SelectModel",
          "model_module_version": "1.5.0",
          "state": {
            "_dom_classes": [],
            "_model_module": "@jupyter-widgets/controls",
            "_model_module_version": "1.5.0",
            "_model_name": "SelectModel",
            "_options_labels": [
              "Elbow Method",
              "Educated Guess",
              "Delphi technique"
            ],
            "_view_count": null,
            "_view_module": "@jupyter-widgets/controls",
            "_view_module_version": "1.5.0",
            "_view_name": "SelectView",
            "description": "Method:",
            "description_tooltip": null,
            "disabled": false,
            "index": null,
            "layout": "IPY_MODEL_d96add3bc64d41ff805ef3cdae6c5aab",
            "rows": 5,
            "style": "IPY_MODEL_dfc9f02dd78d4377ab4302e5ba5688ec"
          }
        },
        "dfc9f02dd78d4377ab4302e5ba5688ec": {
          "model_module": "@jupyter-widgets/controls",
          "model_name": "DescriptionStyleModel",
          "model_module_version": "1.5.0",
          "state": {
            "_model_module": "@jupyter-widgets/controls",
            "_model_module_version": "1.5.0",
            "_model_name": "DescriptionStyleModel",
            "_view_count": null,
            "_view_module": "@jupyter-widgets/base",
            "_view_module_version": "1.2.0",
            "_view_name": "StyleView",
            "description_width": ""
          }
        },
        "d96add3bc64d41ff805ef3cdae6c5aab": {
          "model_module": "@jupyter-widgets/base",
          "model_name": "LayoutModel",
          "model_module_version": "1.2.0",
          "state": {
            "_model_module": "@jupyter-widgets/base",
            "_model_module_version": "1.2.0",
            "_model_name": "LayoutModel",
            "_view_count": null,
            "_view_module": "@jupyter-widgets/base",
            "_view_module_version": "1.2.0",
            "_view_name": "LayoutView",
            "align_content": null,
            "align_items": null,
            "align_self": null,
            "border": null,
            "bottom": null,
            "display": null,
            "flex": null,
            "flex_flow": null,
            "grid_area": null,
            "grid_auto_columns": null,
            "grid_auto_flow": null,
            "grid_auto_rows": null,
            "grid_column": null,
            "grid_gap": null,
            "grid_row": null,
            "grid_template_areas": null,
            "grid_template_columns": null,
            "grid_template_rows": null,
            "height": null,
            "justify_content": null,
            "justify_items": null,
            "left": null,
            "margin": null,
            "max_height": null,
            "max_width": null,
            "min_height": null,
            "min_width": null,
            "object_fit": null,
            "object_position": null,
            "order": null,
            "overflow": null,
            "overflow_x": null,
            "overflow_y": null,
            "padding": null,
            "right": null,
            "top": null,
            "visibility": null,
            "width": null
          }
        },
        "6ef7ca2cc39e4fc1b9cf1b600f1d072a": {
          "model_module": "@jupyter-widgets/controls",
          "model_name": "RadioButtonsModel",
          "model_module_version": "1.5.0",
          "state": {
            "_dom_classes": [],
            "_model_module": "@jupyter-widgets/controls",
            "_model_module_version": "1.5.0",
            "_model_name": "RadioButtonsModel",
            "_options_labels": [
              "True",
              "False"
            ],
            "_view_count": null,
            "_view_module": "@jupyter-widgets/controls",
            "_view_module_version": "1.5.0",
            "_view_name": "RadioButtonsView",
            "description": " ",
            "description_tooltip": null,
            "disabled": false,
            "index": null,
            "layout": "IPY_MODEL_64a418c429d54d788a4caa768a7f4de9",
            "style": "IPY_MODEL_5214abecc2584711992c2206eab7f346"
          }
        },
        "5214abecc2584711992c2206eab7f346": {
          "model_module": "@jupyter-widgets/controls",
          "model_name": "DescriptionStyleModel",
          "model_module_version": "1.5.0",
          "state": {
            "_model_module": "@jupyter-widgets/controls",
            "_model_module_version": "1.5.0",
            "_model_name": "DescriptionStyleModel",
            "_view_count": null,
            "_view_module": "@jupyter-widgets/base",
            "_view_module_version": "1.2.0",
            "_view_name": "StyleView",
            "description_width": ""
          }
        },
        "64a418c429d54d788a4caa768a7f4de9": {
          "model_module": "@jupyter-widgets/base",
          "model_name": "LayoutModel",
          "model_module_version": "1.2.0",
          "state": {
            "_model_module": "@jupyter-widgets/base",
            "_model_module_version": "1.2.0",
            "_model_name": "LayoutModel",
            "_view_count": null,
            "_view_module": "@jupyter-widgets/base",
            "_view_module_version": "1.2.0",
            "_view_name": "LayoutView",
            "align_content": null,
            "align_items": null,
            "align_self": null,
            "border": null,
            "bottom": null,
            "display": null,
            "flex": null,
            "flex_flow": null,
            "grid_area": null,
            "grid_auto_columns": null,
            "grid_auto_flow": null,
            "grid_auto_rows": null,
            "grid_column": null,
            "grid_gap": null,
            "grid_row": null,
            "grid_template_areas": null,
            "grid_template_columns": null,
            "grid_template_rows": null,
            "height": null,
            "justify_content": null,
            "justify_items": null,
            "left": null,
            "margin": null,
            "max_height": null,
            "max_width": null,
            "min_height": null,
            "min_width": null,
            "object_fit": null,
            "object_position": null,
            "order": null,
            "overflow": null,
            "overflow_x": null,
            "overflow_y": null,
            "padding": null,
            "right": null,
            "top": null,
            "visibility": null,
            "width": null
          }
        },
        "d8dee1c4095b412c883ea9579948f241": {
          "model_module": "@jupyter-widgets/controls",
          "model_name": "SelectModel",
          "model_module_version": "1.5.0",
          "state": {
            "_dom_classes": [],
            "_model_module": "@jupyter-widgets/controls",
            "_model_module_version": "1.5.0",
            "_model_name": "SelectModel",
            "_options_labels": [
              "Big Data",
              "Global Warming",
              "Moores Law",
              "IoT"
            ],
            "_view_count": null,
            "_view_module": "@jupyter-widgets/controls",
            "_view_module_version": "1.5.0",
            "_view_name": "SelectView",
            "description": "Method:",
            "description_tooltip": null,
            "disabled": false,
            "index": null,
            "layout": "IPY_MODEL_804aa6e589074e7ab86695e4230ee6d5",
            "rows": 5,
            "style": "IPY_MODEL_6e25168457524149a5ca5c10fa3525a0"
          }
        },
        "6e25168457524149a5ca5c10fa3525a0": {
          "model_module": "@jupyter-widgets/controls",
          "model_name": "DescriptionStyleModel",
          "model_module_version": "1.5.0",
          "state": {
            "_model_module": "@jupyter-widgets/controls",
            "_model_module_version": "1.5.0",
            "_model_name": "DescriptionStyleModel",
            "_view_count": null,
            "_view_module": "@jupyter-widgets/base",
            "_view_module_version": "1.2.0",
            "_view_name": "StyleView",
            "description_width": ""
          }
        },
        "804aa6e589074e7ab86695e4230ee6d5": {
          "model_module": "@jupyter-widgets/base",
          "model_name": "LayoutModel",
          "model_module_version": "1.2.0",
          "state": {
            "_model_module": "@jupyter-widgets/base",
            "_model_module_version": "1.2.0",
            "_model_name": "LayoutModel",
            "_view_count": null,
            "_view_module": "@jupyter-widgets/base",
            "_view_module_version": "1.2.0",
            "_view_name": "LayoutView",
            "align_content": null,
            "align_items": null,
            "align_self": null,
            "border": null,
            "bottom": null,
            "display": null,
            "flex": null,
            "flex_flow": null,
            "grid_area": null,
            "grid_auto_columns": null,
            "grid_auto_flow": null,
            "grid_auto_rows": null,
            "grid_column": null,
            "grid_gap": null,
            "grid_row": null,
            "grid_template_areas": null,
            "grid_template_columns": null,
            "grid_template_rows": null,
            "height": null,
            "justify_content": null,
            "justify_items": null,
            "left": null,
            "margin": null,
            "max_height": null,
            "max_width": null,
            "min_height": null,
            "min_width": null,
            "object_fit": null,
            "object_position": null,
            "order": null,
            "overflow": null,
            "overflow_x": null,
            "overflow_y": null,
            "padding": null,
            "right": null,
            "top": null,
            "visibility": null,
            "width": null
          }
        },
        "3ad94b7c20e64c8ba3fde2f8039563dd": {
          "model_module": "@jupyter-widgets/controls",
          "model_name": "TextModel",
          "model_module_version": "1.5.0",
          "state": {
            "_dom_classes": [],
            "_model_module": "@jupyter-widgets/controls",
            "_model_module_version": "1.5.0",
            "_model_name": "TextModel",
            "_view_count": null,
            "_view_module": "@jupyter-widgets/controls",
            "_view_module_version": "1.5.0",
            "_view_name": "TextView",
            "continuous_update": true,
            "description": "Answer:",
            "description_tooltip": null,
            "disabled": false,
            "layout": "IPY_MODEL_e7794ef8952a4a42b7ba1924988c484f",
            "placeholder": "Type something",
            "style": "IPY_MODEL_e2679b0a8a8e4edaa2a1130df3a8d832",
            "value": ""
          }
        },
        "e2679b0a8a8e4edaa2a1130df3a8d832": {
          "model_module": "@jupyter-widgets/controls",
          "model_name": "DescriptionStyleModel",
          "model_module_version": "1.5.0",
          "state": {
            "_model_module": "@jupyter-widgets/controls",
            "_model_module_version": "1.5.0",
            "_model_name": "DescriptionStyleModel",
            "_view_count": null,
            "_view_module": "@jupyter-widgets/base",
            "_view_module_version": "1.2.0",
            "_view_name": "StyleView",
            "description_width": ""
          }
        },
        "e7794ef8952a4a42b7ba1924988c484f": {
          "model_module": "@jupyter-widgets/base",
          "model_name": "LayoutModel",
          "model_module_version": "1.2.0",
          "state": {
            "_model_module": "@jupyter-widgets/base",
            "_model_module_version": "1.2.0",
            "_model_name": "LayoutModel",
            "_view_count": null,
            "_view_module": "@jupyter-widgets/base",
            "_view_module_version": "1.2.0",
            "_view_name": "LayoutView",
            "align_content": null,
            "align_items": null,
            "align_self": null,
            "border": null,
            "bottom": null,
            "display": null,
            "flex": null,
            "flex_flow": null,
            "grid_area": null,
            "grid_auto_columns": null,
            "grid_auto_flow": null,
            "grid_auto_rows": null,
            "grid_column": null,
            "grid_gap": null,
            "grid_row": null,
            "grid_template_areas": null,
            "grid_template_columns": null,
            "grid_template_rows": null,
            "height": null,
            "justify_content": null,
            "justify_items": null,
            "left": null,
            "margin": null,
            "max_height": null,
            "max_width": null,
            "min_height": null,
            "min_width": null,
            "object_fit": null,
            "object_position": null,
            "order": null,
            "overflow": null,
            "overflow_x": null,
            "overflow_y": null,
            "padding": null,
            "right": null,
            "top": null,
            "visibility": null,
            "width": null
          }
        },
        "75a495769cd545e79bafebda3a0ab1e9": {
          "model_module": "@jupyter-widgets/controls",
          "model_name": "TabModel",
          "model_module_version": "1.5.0",
          "state": {
            "_dom_classes": [],
            "_model_module": "@jupyter-widgets/controls",
            "_model_module_version": "1.5.0",
            "_model_name": "TabModel",
            "_titles": {
              "0": "FY",
              "1": "SIC",
              "2": "STATE",
              "3": "PLANT_AREA",
              "4": "PRODUCTS",
              "5": "EC_plant_usage"
            },
            "_view_count": null,
            "_view_module": "@jupyter-widgets/controls",
            "_view_module_version": "1.5.0",
            "_view_name": "TabView",
            "box_style": "",
            "children": [
              "IPY_MODEL_b21a8a4cf84c4af5aaaa2ebc577d1c79",
              "IPY_MODEL_6eae3c3bcba142049b35bb756187573d",
              "IPY_MODEL_13c6ca8bdf78493293fea0f3fa8506b0",
              "IPY_MODEL_e38ebd220b1a402e8393c954129ca326",
              "IPY_MODEL_32888ac196974d35b3dd49794c4f49b7",
              "IPY_MODEL_a719816442d24f519b0c1b891f074c5d"
            ],
            "layout": "IPY_MODEL_13dca105d8c44ec59f28ab5c945e7ff6",
            "selected_index": 0
          }
        },
        "13dca105d8c44ec59f28ab5c945e7ff6": {
          "model_module": "@jupyter-widgets/base",
          "model_name": "LayoutModel",
          "model_module_version": "1.2.0",
          "state": {
            "_model_module": "@jupyter-widgets/base",
            "_model_module_version": "1.2.0",
            "_model_name": "LayoutModel",
            "_view_count": null,
            "_view_module": "@jupyter-widgets/base",
            "_view_module_version": "1.2.0",
            "_view_name": "LayoutView",
            "align_content": null,
            "align_items": null,
            "align_self": null,
            "border": null,
            "bottom": null,
            "display": null,
            "flex": null,
            "flex_flow": null,
            "grid_area": null,
            "grid_auto_columns": null,
            "grid_auto_flow": null,
            "grid_auto_rows": null,
            "grid_column": null,
            "grid_gap": null,
            "grid_row": null,
            "grid_template_areas": null,
            "grid_template_columns": null,
            "grid_template_rows": null,
            "height": null,
            "justify_content": null,
            "justify_items": null,
            "left": null,
            "margin": null,
            "max_height": null,
            "max_width": null,
            "min_height": null,
            "min_width": null,
            "object_fit": null,
            "object_position": null,
            "order": null,
            "overflow": null,
            "overflow_x": null,
            "overflow_y": null,
            "padding": null,
            "right": null,
            "top": null,
            "visibility": null,
            "width": null
          }
        },
        "b21a8a4cf84c4af5aaaa2ebc577d1c79": {
          "model_module": "@jupyter-widgets/controls",
          "model_name": "TextModel",
          "model_module_version": "1.5.0",
          "state": {
            "_dom_classes": [],
            "_model_module": "@jupyter-widgets/controls",
            "_model_module_version": "1.5.0",
            "_model_name": "TextModel",
            "_view_count": null,
            "_view_module": "@jupyter-widgets/controls",
            "_view_module_version": "1.5.0",
            "_view_name": "TextView",
            "continuous_update": true,
            "description": "Data Type:",
            "description_tooltip": null,
            "disabled": false,
            "layout": "IPY_MODEL_5249d0ed889243819855bd885e5ec366",
            "placeholder": "​",
            "style": "IPY_MODEL_2749507e954447dbae907dce4958dec6",
            "value": ""
          }
        },
        "6eae3c3bcba142049b35bb756187573d": {
          "model_module": "@jupyter-widgets/controls",
          "model_name": "TextModel",
          "model_module_version": "1.5.0",
          "state": {
            "_dom_classes": [],
            "_model_module": "@jupyter-widgets/controls",
            "_model_module_version": "1.5.0",
            "_model_name": "TextModel",
            "_view_count": null,
            "_view_module": "@jupyter-widgets/controls",
            "_view_module_version": "1.5.0",
            "_view_name": "TextView",
            "continuous_update": true,
            "description": "Data Type:",
            "description_tooltip": null,
            "disabled": false,
            "layout": "IPY_MODEL_a86383932cd04bd48e3339914848979a",
            "placeholder": "​",
            "style": "IPY_MODEL_24063cd1878f48a8b7891121d1055b6a",
            "value": ""
          }
        },
        "13c6ca8bdf78493293fea0f3fa8506b0": {
          "model_module": "@jupyter-widgets/controls",
          "model_name": "TextModel",
          "model_module_version": "1.5.0",
          "state": {
            "_dom_classes": [],
            "_model_module": "@jupyter-widgets/controls",
            "_model_module_version": "1.5.0",
            "_model_name": "TextModel",
            "_view_count": null,
            "_view_module": "@jupyter-widgets/controls",
            "_view_module_version": "1.5.0",
            "_view_name": "TextView",
            "continuous_update": true,
            "description": "Data Type:",
            "description_tooltip": null,
            "disabled": false,
            "layout": "IPY_MODEL_9a949e47ee3041a7b67f3d63a06333c6",
            "placeholder": "​",
            "style": "IPY_MODEL_bbbdf4a258244dc3bd155f16532da621",
            "value": ""
          }
        },
        "e38ebd220b1a402e8393c954129ca326": {
          "model_module": "@jupyter-widgets/controls",
          "model_name": "TextModel",
          "model_module_version": "1.5.0",
          "state": {
            "_dom_classes": [],
            "_model_module": "@jupyter-widgets/controls",
            "_model_module_version": "1.5.0",
            "_model_name": "TextModel",
            "_view_count": null,
            "_view_module": "@jupyter-widgets/controls",
            "_view_module_version": "1.5.0",
            "_view_name": "TextView",
            "continuous_update": true,
            "description": "Data Type:",
            "description_tooltip": null,
            "disabled": false,
            "layout": "IPY_MODEL_49138e378fbb4b56a309f68e50f3fc7c",
            "placeholder": "​",
            "style": "IPY_MODEL_542eb7f5e9e449b2834f7dbcaea7d169",
            "value": ""
          }
        },
        "32888ac196974d35b3dd49794c4f49b7": {
          "model_module": "@jupyter-widgets/controls",
          "model_name": "TextModel",
          "model_module_version": "1.5.0",
          "state": {
            "_dom_classes": [],
            "_model_module": "@jupyter-widgets/controls",
            "_model_module_version": "1.5.0",
            "_model_name": "TextModel",
            "_view_count": null,
            "_view_module": "@jupyter-widgets/controls",
            "_view_module_version": "1.5.0",
            "_view_name": "TextView",
            "continuous_update": true,
            "description": "Data Type:",
            "description_tooltip": null,
            "disabled": false,
            "layout": "IPY_MODEL_4df9bb3a20ff48a8b8086e9c2239ec1f",
            "placeholder": "​",
            "style": "IPY_MODEL_80d0c05b67304d10bd5cd86bec26e093",
            "value": ""
          }
        },
        "a719816442d24f519b0c1b891f074c5d": {
          "model_module": "@jupyter-widgets/controls",
          "model_name": "TextModel",
          "model_module_version": "1.5.0",
          "state": {
            "_dom_classes": [],
            "_model_module": "@jupyter-widgets/controls",
            "_model_module_version": "1.5.0",
            "_model_name": "TextModel",
            "_view_count": null,
            "_view_module": "@jupyter-widgets/controls",
            "_view_module_version": "1.5.0",
            "_view_name": "TextView",
            "continuous_update": true,
            "description": "Data Type:",
            "description_tooltip": null,
            "disabled": false,
            "layout": "IPY_MODEL_44bdf0792f604156a4639e6949dfae06",
            "placeholder": "​",
            "style": "IPY_MODEL_7a11fd4223064a9293b357f320a8232b",
            "value": ""
          }
        },
        "2749507e954447dbae907dce4958dec6": {
          "model_module": "@jupyter-widgets/controls",
          "model_name": "DescriptionStyleModel",
          "model_module_version": "1.5.0",
          "state": {
            "_model_module": "@jupyter-widgets/controls",
            "_model_module_version": "1.5.0",
            "_model_name": "DescriptionStyleModel",
            "_view_count": null,
            "_view_module": "@jupyter-widgets/base",
            "_view_module_version": "1.2.0",
            "_view_name": "StyleView",
            "description_width": ""
          }
        },
        "5249d0ed889243819855bd885e5ec366": {
          "model_module": "@jupyter-widgets/base",
          "model_name": "LayoutModel",
          "model_module_version": "1.2.0",
          "state": {
            "_model_module": "@jupyter-widgets/base",
            "_model_module_version": "1.2.0",
            "_model_name": "LayoutModel",
            "_view_count": null,
            "_view_module": "@jupyter-widgets/base",
            "_view_module_version": "1.2.0",
            "_view_name": "LayoutView",
            "align_content": null,
            "align_items": null,
            "align_self": null,
            "border": null,
            "bottom": null,
            "display": null,
            "flex": null,
            "flex_flow": null,
            "grid_area": null,
            "grid_auto_columns": null,
            "grid_auto_flow": null,
            "grid_auto_rows": null,
            "grid_column": null,
            "grid_gap": null,
            "grid_row": null,
            "grid_template_areas": null,
            "grid_template_columns": null,
            "grid_template_rows": null,
            "height": null,
            "justify_content": null,
            "justify_items": null,
            "left": null,
            "margin": null,
            "max_height": null,
            "max_width": null,
            "min_height": null,
            "min_width": null,
            "object_fit": null,
            "object_position": null,
            "order": null,
            "overflow": null,
            "overflow_x": null,
            "overflow_y": null,
            "padding": null,
            "right": null,
            "top": null,
            "visibility": null,
            "width": null
          }
        },
        "24063cd1878f48a8b7891121d1055b6a": {
          "model_module": "@jupyter-widgets/controls",
          "model_name": "DescriptionStyleModel",
          "model_module_version": "1.5.0",
          "state": {
            "_model_module": "@jupyter-widgets/controls",
            "_model_module_version": "1.5.0",
            "_model_name": "DescriptionStyleModel",
            "_view_count": null,
            "_view_module": "@jupyter-widgets/base",
            "_view_module_version": "1.2.0",
            "_view_name": "StyleView",
            "description_width": ""
          }
        },
        "a86383932cd04bd48e3339914848979a": {
          "model_module": "@jupyter-widgets/base",
          "model_name": "LayoutModel",
          "model_module_version": "1.2.0",
          "state": {
            "_model_module": "@jupyter-widgets/base",
            "_model_module_version": "1.2.0",
            "_model_name": "LayoutModel",
            "_view_count": null,
            "_view_module": "@jupyter-widgets/base",
            "_view_module_version": "1.2.0",
            "_view_name": "LayoutView",
            "align_content": null,
            "align_items": null,
            "align_self": null,
            "border": null,
            "bottom": null,
            "display": null,
            "flex": null,
            "flex_flow": null,
            "grid_area": null,
            "grid_auto_columns": null,
            "grid_auto_flow": null,
            "grid_auto_rows": null,
            "grid_column": null,
            "grid_gap": null,
            "grid_row": null,
            "grid_template_areas": null,
            "grid_template_columns": null,
            "grid_template_rows": null,
            "height": null,
            "justify_content": null,
            "justify_items": null,
            "left": null,
            "margin": null,
            "max_height": null,
            "max_width": null,
            "min_height": null,
            "min_width": null,
            "object_fit": null,
            "object_position": null,
            "order": null,
            "overflow": null,
            "overflow_x": null,
            "overflow_y": null,
            "padding": null,
            "right": null,
            "top": null,
            "visibility": null,
            "width": null
          }
        },
        "bbbdf4a258244dc3bd155f16532da621": {
          "model_module": "@jupyter-widgets/controls",
          "model_name": "DescriptionStyleModel",
          "model_module_version": "1.5.0",
          "state": {
            "_model_module": "@jupyter-widgets/controls",
            "_model_module_version": "1.5.0",
            "_model_name": "DescriptionStyleModel",
            "_view_count": null,
            "_view_module": "@jupyter-widgets/base",
            "_view_module_version": "1.2.0",
            "_view_name": "StyleView",
            "description_width": ""
          }
        },
        "9a949e47ee3041a7b67f3d63a06333c6": {
          "model_module": "@jupyter-widgets/base",
          "model_name": "LayoutModel",
          "model_module_version": "1.2.0",
          "state": {
            "_model_module": "@jupyter-widgets/base",
            "_model_module_version": "1.2.0",
            "_model_name": "LayoutModel",
            "_view_count": null,
            "_view_module": "@jupyter-widgets/base",
            "_view_module_version": "1.2.0",
            "_view_name": "LayoutView",
            "align_content": null,
            "align_items": null,
            "align_self": null,
            "border": null,
            "bottom": null,
            "display": null,
            "flex": null,
            "flex_flow": null,
            "grid_area": null,
            "grid_auto_columns": null,
            "grid_auto_flow": null,
            "grid_auto_rows": null,
            "grid_column": null,
            "grid_gap": null,
            "grid_row": null,
            "grid_template_areas": null,
            "grid_template_columns": null,
            "grid_template_rows": null,
            "height": null,
            "justify_content": null,
            "justify_items": null,
            "left": null,
            "margin": null,
            "max_height": null,
            "max_width": null,
            "min_height": null,
            "min_width": null,
            "object_fit": null,
            "object_position": null,
            "order": null,
            "overflow": null,
            "overflow_x": null,
            "overflow_y": null,
            "padding": null,
            "right": null,
            "top": null,
            "visibility": null,
            "width": null
          }
        },
        "542eb7f5e9e449b2834f7dbcaea7d169": {
          "model_module": "@jupyter-widgets/controls",
          "model_name": "DescriptionStyleModel",
          "model_module_version": "1.5.0",
          "state": {
            "_model_module": "@jupyter-widgets/controls",
            "_model_module_version": "1.5.0",
            "_model_name": "DescriptionStyleModel",
            "_view_count": null,
            "_view_module": "@jupyter-widgets/base",
            "_view_module_version": "1.2.0",
            "_view_name": "StyleView",
            "description_width": ""
          }
        },
        "49138e378fbb4b56a309f68e50f3fc7c": {
          "model_module": "@jupyter-widgets/base",
          "model_name": "LayoutModel",
          "model_module_version": "1.2.0",
          "state": {
            "_model_module": "@jupyter-widgets/base",
            "_model_module_version": "1.2.0",
            "_model_name": "LayoutModel",
            "_view_count": null,
            "_view_module": "@jupyter-widgets/base",
            "_view_module_version": "1.2.0",
            "_view_name": "LayoutView",
            "align_content": null,
            "align_items": null,
            "align_self": null,
            "border": null,
            "bottom": null,
            "display": null,
            "flex": null,
            "flex_flow": null,
            "grid_area": null,
            "grid_auto_columns": null,
            "grid_auto_flow": null,
            "grid_auto_rows": null,
            "grid_column": null,
            "grid_gap": null,
            "grid_row": null,
            "grid_template_areas": null,
            "grid_template_columns": null,
            "grid_template_rows": null,
            "height": null,
            "justify_content": null,
            "justify_items": null,
            "left": null,
            "margin": null,
            "max_height": null,
            "max_width": null,
            "min_height": null,
            "min_width": null,
            "object_fit": null,
            "object_position": null,
            "order": null,
            "overflow": null,
            "overflow_x": null,
            "overflow_y": null,
            "padding": null,
            "right": null,
            "top": null,
            "visibility": null,
            "width": null
          }
        },
        "80d0c05b67304d10bd5cd86bec26e093": {
          "model_module": "@jupyter-widgets/controls",
          "model_name": "DescriptionStyleModel",
          "model_module_version": "1.5.0",
          "state": {
            "_model_module": "@jupyter-widgets/controls",
            "_model_module_version": "1.5.0",
            "_model_name": "DescriptionStyleModel",
            "_view_count": null,
            "_view_module": "@jupyter-widgets/base",
            "_view_module_version": "1.2.0",
            "_view_name": "StyleView",
            "description_width": ""
          }
        },
        "4df9bb3a20ff48a8b8086e9c2239ec1f": {
          "model_module": "@jupyter-widgets/base",
          "model_name": "LayoutModel",
          "model_module_version": "1.2.0",
          "state": {
            "_model_module": "@jupyter-widgets/base",
            "_model_module_version": "1.2.0",
            "_model_name": "LayoutModel",
            "_view_count": null,
            "_view_module": "@jupyter-widgets/base",
            "_view_module_version": "1.2.0",
            "_view_name": "LayoutView",
            "align_content": null,
            "align_items": null,
            "align_self": null,
            "border": null,
            "bottom": null,
            "display": null,
            "flex": null,
            "flex_flow": null,
            "grid_area": null,
            "grid_auto_columns": null,
            "grid_auto_flow": null,
            "grid_auto_rows": null,
            "grid_column": null,
            "grid_gap": null,
            "grid_row": null,
            "grid_template_areas": null,
            "grid_template_columns": null,
            "grid_template_rows": null,
            "height": null,
            "justify_content": null,
            "justify_items": null,
            "left": null,
            "margin": null,
            "max_height": null,
            "max_width": null,
            "min_height": null,
            "min_width": null,
            "object_fit": null,
            "object_position": null,
            "order": null,
            "overflow": null,
            "overflow_x": null,
            "overflow_y": null,
            "padding": null,
            "right": null,
            "top": null,
            "visibility": null,
            "width": null
          }
        },
        "7a11fd4223064a9293b357f320a8232b": {
          "model_module": "@jupyter-widgets/controls",
          "model_name": "DescriptionStyleModel",
          "model_module_version": "1.5.0",
          "state": {
            "_model_module": "@jupyter-widgets/controls",
            "_model_module_version": "1.5.0",
            "_model_name": "DescriptionStyleModel",
            "_view_count": null,
            "_view_module": "@jupyter-widgets/base",
            "_view_module_version": "1.2.0",
            "_view_name": "StyleView",
            "description_width": ""
          }
        },
        "44bdf0792f604156a4639e6949dfae06": {
          "model_module": "@jupyter-widgets/base",
          "model_name": "LayoutModel",
          "model_module_version": "1.2.0",
          "state": {
            "_model_module": "@jupyter-widgets/base",
            "_model_module_version": "1.2.0",
            "_model_name": "LayoutModel",
            "_view_count": null,
            "_view_module": "@jupyter-widgets/base",
            "_view_module_version": "1.2.0",
            "_view_name": "LayoutView",
            "align_content": null,
            "align_items": null,
            "align_self": null,
            "border": null,
            "bottom": null,
            "display": null,
            "flex": null,
            "flex_flow": null,
            "grid_area": null,
            "grid_auto_columns": null,
            "grid_auto_flow": null,
            "grid_auto_rows": null,
            "grid_column": null,
            "grid_gap": null,
            "grid_row": null,
            "grid_template_areas": null,
            "grid_template_columns": null,
            "grid_template_rows": null,
            "height": null,
            "justify_content": null,
            "justify_items": null,
            "left": null,
            "margin": null,
            "max_height": null,
            "max_width": null,
            "min_height": null,
            "min_width": null,
            "object_fit": null,
            "object_position": null,
            "order": null,
            "overflow": null,
            "overflow_x": null,
            "overflow_y": null,
            "padding": null,
            "right": null,
            "top": null,
            "visibility": null,
            "width": null
          }
        },
        "cc0e479d7c014230aa91346743ce074d": {
          "model_module": "@jupyter-widgets/controls",
          "model_name": "TextModel",
          "model_module_version": "1.5.0",
          "state": {
            "_dom_classes": [],
            "_model_module": "@jupyter-widgets/controls",
            "_model_module_version": "1.5.0",
            "_model_name": "TextModel",
            "_view_count": null,
            "_view_module": "@jupyter-widgets/controls",
            "_view_module_version": "1.5.0",
            "_view_name": "TextView",
            "continuous_update": true,
            "description": "Answer:",
            "description_tooltip": null,
            "disabled": false,
            "layout": "IPY_MODEL_0e8ae3eb7f474a95bf78caefb62f2a9d",
            "placeholder": "Type something",
            "style": "IPY_MODEL_1943d15771774bc59002b34b41c58acf",
            "value": ""
          }
        },
        "1943d15771774bc59002b34b41c58acf": {
          "model_module": "@jupyter-widgets/controls",
          "model_name": "DescriptionStyleModel",
          "model_module_version": "1.5.0",
          "state": {
            "_model_module": "@jupyter-widgets/controls",
            "_model_module_version": "1.5.0",
            "_model_name": "DescriptionStyleModel",
            "_view_count": null,
            "_view_module": "@jupyter-widgets/base",
            "_view_module_version": "1.2.0",
            "_view_name": "StyleView",
            "description_width": ""
          }
        },
        "0e8ae3eb7f474a95bf78caefb62f2a9d": {
          "model_module": "@jupyter-widgets/base",
          "model_name": "LayoutModel",
          "model_module_version": "1.2.0",
          "state": {
            "_model_module": "@jupyter-widgets/base",
            "_model_module_version": "1.2.0",
            "_model_name": "LayoutModel",
            "_view_count": null,
            "_view_module": "@jupyter-widgets/base",
            "_view_module_version": "1.2.0",
            "_view_name": "LayoutView",
            "align_content": null,
            "align_items": null,
            "align_self": null,
            "border": null,
            "bottom": null,
            "display": null,
            "flex": null,
            "flex_flow": null,
            "grid_area": null,
            "grid_auto_columns": null,
            "grid_auto_flow": null,
            "grid_auto_rows": null,
            "grid_column": null,
            "grid_gap": null,
            "grid_row": null,
            "grid_template_areas": null,
            "grid_template_columns": null,
            "grid_template_rows": null,
            "height": null,
            "justify_content": null,
            "justify_items": null,
            "left": null,
            "margin": null,
            "max_height": null,
            "max_width": null,
            "min_height": null,
            "min_width": null,
            "object_fit": null,
            "object_position": null,
            "order": null,
            "overflow": null,
            "overflow_x": null,
            "overflow_y": null,
            "padding": null,
            "right": null,
            "top": null,
            "visibility": null,
            "width": null
          }
        },
        "2e29916adce24145910f81a1f4fe8541": {
          "model_module": "@jupyter-widgets/controls",
          "model_name": "TextModel",
          "model_module_version": "1.5.0",
          "state": {
            "_dom_classes": [],
            "_model_module": "@jupyter-widgets/controls",
            "_model_module_version": "1.5.0",
            "_model_name": "TextModel",
            "_view_count": null,
            "_view_module": "@jupyter-widgets/controls",
            "_view_module_version": "1.5.0",
            "_view_name": "TextView",
            "continuous_update": true,
            "description": "Answer:",
            "description_tooltip": null,
            "disabled": false,
            "layout": "IPY_MODEL_eca5c7ea196a4300a77bdbfd2d42c969",
            "placeholder": "Type something",
            "style": "IPY_MODEL_d9ca4b175da34eda8b0f6b6e16b58c6e",
            "value": ""
          }
        },
        "d9ca4b175da34eda8b0f6b6e16b58c6e": {
          "model_module": "@jupyter-widgets/controls",
          "model_name": "DescriptionStyleModel",
          "model_module_version": "1.5.0",
          "state": {
            "_model_module": "@jupyter-widgets/controls",
            "_model_module_version": "1.5.0",
            "_model_name": "DescriptionStyleModel",
            "_view_count": null,
            "_view_module": "@jupyter-widgets/base",
            "_view_module_version": "1.2.0",
            "_view_name": "StyleView",
            "description_width": ""
          }
        },
        "eca5c7ea196a4300a77bdbfd2d42c969": {
          "model_module": "@jupyter-widgets/base",
          "model_name": "LayoutModel",
          "model_module_version": "1.2.0",
          "state": {
            "_model_module": "@jupyter-widgets/base",
            "_model_module_version": "1.2.0",
            "_model_name": "LayoutModel",
            "_view_count": null,
            "_view_module": "@jupyter-widgets/base",
            "_view_module_version": "1.2.0",
            "_view_name": "LayoutView",
            "align_content": null,
            "align_items": null,
            "align_self": null,
            "border": null,
            "bottom": null,
            "display": null,
            "flex": null,
            "flex_flow": null,
            "grid_area": null,
            "grid_auto_columns": null,
            "grid_auto_flow": null,
            "grid_auto_rows": null,
            "grid_column": null,
            "grid_gap": null,
            "grid_row": null,
            "grid_template_areas": null,
            "grid_template_columns": null,
            "grid_template_rows": null,
            "height": null,
            "justify_content": null,
            "justify_items": null,
            "left": null,
            "margin": null,
            "max_height": null,
            "max_width": null,
            "min_height": null,
            "min_width": null,
            "object_fit": null,
            "object_position": null,
            "order": null,
            "overflow": null,
            "overflow_x": null,
            "overflow_y": null,
            "padding": null,
            "right": null,
            "top": null,
            "visibility": null,
            "width": null
          }
        }
      }
    }
  },
  "cells": [
    {
      "cell_type": "markdown",
      "metadata": {
        "id": "view-in-github",
        "colab_type": "text"
      },
      "source": [
        "<a href=\"https://colab.research.google.com/github/Chzacher/ENSYS5800-AI-Energy-zacher.c/blob/main/Homework/Hwk2/ENSY5800_Hwk2_Data_Analytics.ipynb\" target=\"_parent\"><img src=\"https://colab.research.google.com/assets/colab-badge.svg\" alt=\"Open In Colab\"/></a>"
      ]
    },
    {
      "cell_type": "markdown",
      "metadata": {
        "id": "printable-kazakhstan"
      },
      "source": [
        "# ENSYS 5800: Applications of Artificial Intelligence in Energy Systems"
      ],
      "id": "printable-kazakhstan"
    },
    {
      "cell_type": "markdown",
      "metadata": {
        "id": "durable-element"
      },
      "source": [
        "## Homework 2: Data Analytics"
      ],
      "id": "durable-element"
    },
    {
      "cell_type": "markdown",
      "metadata": {
        "id": "statutory-marker"
      },
      "source": [
        "Instructions\n",
        "1. Use only Jupyter Notebook (with Google Colab) to answer these questions\n",
        "2. Some questions are short answer and some require you to write some basic code to solve\n",
        "3. You must show your work for the coding problems (ex. make comments in the code)\n",
        "4. Your score (i.e. total points) from these question will be converted to the points for this assignment in Canvas (ex. 20 out of 20 converts to 3 points in canvas)"
      ],
      "id": "statutory-marker"
    },
    {
      "cell_type": "code",
      "metadata": {
        "id": "floating-simon"
      },
      "source": [
        "#####===> DO NOT CHANGE THIS CELL <===#####\n",
        "from __future__ import print_function\n",
        "from ipywidgets import interact, interactive, fixed, interact_manual\n",
        "import ipywidgets as widgets\n",
        "import matplotlib.pyplot as plt\n",
        "###########################################"
      ],
      "id": "floating-simon",
      "execution_count": null,
      "outputs": []
    },
    {
      "cell_type": "markdown",
      "metadata": {
        "id": "instructional-assistant"
      },
      "source": [
        "### Short answer questions"
      ],
      "id": "instructional-assistant"
    },
    {
      "cell_type": "markdown",
      "metadata": {
        "id": "helpful-universal"
      },
      "source": [
        "**1. [1 point] An engineer creates an artificial neural network to predict specific faults in an energy system. Is this an example of weak artificial intelligence, or strong artificial intelligence?**"
      ],
      "id": "helpful-universal"
    },
    {
      "cell_type": "code",
      "metadata": {
        "colab": {
          "base_uri": "https://localhost:8080/",
          "height": 61,
          "referenced_widgets": [
            "0a9316f59ed64437ac9323e7c97510d5",
            "33709da1e3434845925bee320acb9cbd",
            "ca3199b6c3ee4c6991686e4bb43d7ba2"
          ]
        },
        "id": "convertible-republic",
        "jupyter": {
          "source_hidden": true
        },
        "tags": [],
        "outputId": "9bcf715c-e5f6-4f30-cf94-f83325b48b9f"
      },
      "source": [
        "widgets.RadioButtons(options=['Weak artificial intelligence', 'Strong artificial intelligence'],value=None,description=' ',disabled=False)"
      ],
      "id": "convertible-republic",
      "execution_count": null,
      "outputs": [
        {
          "output_type": "display_data",
          "data": {
            "application/vnd.jupyter.widget-view+json": {
              "model_id": "0a9316f59ed64437ac9323e7c97510d5",
              "version_major": 2,
              "version_minor": 0
            },
            "text/plain": [
              "RadioButtons(description=' ', options=('Weak artificial intelligence', 'Strong artificial intelligence'), valu…"
            ]
          },
          "metadata": {
            "tags": []
          }
        }
      ]
    },
    {
      "cell_type": "markdown",
      "metadata": {
        "id": "broke-trustee"
      },
      "source": [
        "**2. [1 point] Which of these methods is a technique used to help choose the number of clusters for kmeans clustering?**"
      ],
      "id": "broke-trustee"
    },
    {
      "cell_type": "code",
      "metadata": {
        "colab": {
          "base_uri": "https://localhost:8080/",
          "height": 111,
          "referenced_widgets": [
            "3811609f6eaf421f82cf795c9e7dd59e",
            "dfc9f02dd78d4377ab4302e5ba5688ec",
            "d96add3bc64d41ff805ef3cdae6c5aab"
          ]
        },
        "id": "north-asian",
        "jupyter": {
          "source_hidden": true
        },
        "outputId": "cfe6e1fd-dc89-4724-866a-83a0f0bbe3ff"
      },
      "source": [
        "widgets.Select(options=['Elbow Method', 'Educated Guess', 'Delphi technique'],value=None,description='Method:',disabled=False)"
      ],
      "id": "north-asian",
      "execution_count": null,
      "outputs": [
        {
          "output_type": "display_data",
          "data": {
            "application/vnd.jupyter.widget-view+json": {
              "model_id": "3811609f6eaf421f82cf795c9e7dd59e",
              "version_major": 2,
              "version_minor": 0
            },
            "text/plain": [
              "Select(description='Method:', options=('Elbow Method', 'Educated Guess', 'Delphi technique'), value=None)"
            ]
          },
          "metadata": {
            "tags": []
          }
        }
      ]
    },
    {
      "cell_type": "code",
      "metadata": {
        "colab": {
          "base_uri": "https://localhost:8080/",
          "height": 61,
          "referenced_widgets": [
            "6ef7ca2cc39e4fc1b9cf1b600f1d072a",
            "5214abecc2584711992c2206eab7f346",
            "64a418c429d54d788a4caa768a7f4de9"
          ]
        },
        "id": "great-mainland",
        "jupyter": {
          "source_hidden": true
        },
        "outputId": "3575b3d3-c602-4c9f-a6b7-c9b4b1fdbbe3"
      },
      "source": [
        "widgets.RadioButtons(options=['True', 'False'],value=None,description=' ',disabled=False)"
      ],
      "id": "great-mainland",
      "execution_count": null,
      "outputs": [
        {
          "output_type": "display_data",
          "data": {
            "application/vnd.jupyter.widget-view+json": {
              "model_id": "6ef7ca2cc39e4fc1b9cf1b600f1d072a",
              "version_major": 2,
              "version_minor": 0
            },
            "text/plain": [
              "RadioButtons(description=' ', options=('True', 'False'), value=None)"
            ]
          },
          "metadata": {
            "tags": []
          }
        }
      ]
    },
    {
      "cell_type": "markdown",
      "metadata": {
        "id": "opening-management"
      },
      "source": [
        "**3. [1 point] Which of these items is *NOT* considered an enabler of the current increase in using Artificial Intelligence? [Select the single best answer]**"
      ],
      "id": "opening-management"
    },
    {
      "cell_type": "code",
      "metadata": {
        "colab": {
          "base_uri": "https://localhost:8080/",
          "height": 111,
          "referenced_widgets": [
            "d8dee1c4095b412c883ea9579948f241",
            "6e25168457524149a5ca5c10fa3525a0",
            "804aa6e589074e7ab86695e4230ee6d5"
          ]
        },
        "id": "promising-newton",
        "jupyter": {
          "source_hidden": true
        },
        "outputId": "21a56cb3-503c-4d0a-b411-f1d34b205f09"
      },
      "source": [
        "widgets.Select(options=['Big Data', 'Global Warming', 'Moores Law','IoT'],value=None,description='Method:',disabled=False)"
      ],
      "id": "promising-newton",
      "execution_count": null,
      "outputs": [
        {
          "output_type": "display_data",
          "data": {
            "application/vnd.jupyter.widget-view+json": {
              "model_id": "d8dee1c4095b412c883ea9579948f241",
              "version_major": 2,
              "version_minor": 0
            },
            "text/plain": [
              "Select(description='Method:', options=('Big Data', 'Global Warming', 'Moores Law', 'IoT'), value=None)"
            ]
          },
          "metadata": {
            "tags": []
          }
        }
      ]
    },
    {
      "cell_type": "markdown",
      "metadata": {
        "id": "comparative-eating"
      },
      "source": [
        "### Data Analytics"
      ],
      "id": "comparative-eating"
    },
    {
      "cell_type": "code",
      "metadata": {
        "colab": {
          "base_uri": "https://localhost:8080/"
        },
        "id": "secondary-exhaust",
        "jupyter": {
          "source_hidden": true
        },
        "outputId": "0fc6fc8f-9262-41c6-db14-690a70df0893"
      },
      "source": [
        "#####===> DO NOT CHANGE THIS CELL <===#####\n",
        "import pandas as pd                             # Import the pandas library as the object named 'pd'\n",
        "import matplotlib.pyplot as plt                 # Import the matplotlib plotting package\n",
        "\n",
        "url=\"https://storage.googleapis.com/doe-iac/IAC_Database_20210127.csv\"    # Assign the data source URL as a variable called 'url'\n",
        "data=pd.read_csv(url, sep=',', header=None, error_bad_lines=False)        # Create pandas dataframe, pd, by reading the url data as a csv formatted data file"
      ],
      "id": "secondary-exhaust",
      "execution_count": null,
      "outputs": [
        {
          "output_type": "stream",
          "text": [
            "/usr/local/lib/python3.6/dist-packages/IPython/core/interactiveshell.py:2718: DtypeWarning: Columns (2,3,4,6,7,8,10,11,12,13,14,15,16,17,18,19,20,21,22,23,24,25,26,27,28,29,30,31,32,33,34,35,36,37,38,39,40,41,42,43,44,45,46,47,48,49,50,51,52,53,54) have mixed types.Specify dtype option on import or set low_memory=False.\n",
            "  interactivity=interactivity, compiler=compiler, result=result)\n"
          ],
          "name": "stderr"
        }
      ]
    },
    {
      "cell_type": "markdown",
      "metadata": {
        "id": "still-ethiopia"
      },
      "source": [
        "#### Perform data analytics on the DOE IAC Building Energy Data set, focusing on these two columns: *PLANT_AREA* and *EC_plant_usage*"
      ],
      "id": "still-ethiopia"
    },
    {
      "cell_type": "markdown",
      "metadata": {
        "id": "dependent-lightweight"
      },
      "source": [
        "**4. [1 point] Prepare the data set by setting the Column names to the names in the first row, and setting the Index to the ID column.**\n",
        ">Hint: Use the same approach as last week's example."
      ],
      "id": "dependent-lightweight"
    },
    {
      "cell_type": "code",
      "metadata": {
        "id": "biblical-sierra"
      },
      "source": [
        "##### YOUR CODE HERE #######\n",
        "\n",
        "\n",
        "############################"
      ],
      "id": "biblical-sierra",
      "execution_count": null,
      "outputs": []
    },
    {
      "cell_type": "markdown",
      "metadata": {
        "id": "collective-excuse"
      },
      "source": [
        "**5. [1 point] Create a new table with just the following columns: SIC, FY, STATE, PLANT_AREA, EC_plant_usage, and PRODUCTS.**"
      ],
      "id": "collective-excuse"
    },
    {
      "cell_type": "code",
      "metadata": {
        "id": "necessary-traffic"
      },
      "source": [
        "##### YOUR CODE HERE #######\n",
        "\n",
        "\n",
        "############################"
      ],
      "id": "necessary-traffic",
      "execution_count": null,
      "outputs": []
    },
    {
      "cell_type": "markdown",
      "metadata": {
        "id": "municipal-compound"
      },
      "source": [
        "**6. [1 point] Remove the records that have a missing value in any column, and report the number of records remaining (i.e. the number of rows without missing values in any column).**\n",
        ">Hint: Use *data.dropna()*"
      ],
      "id": "municipal-compound"
    },
    {
      "cell_type": "code",
      "metadata": {
        "id": "thousand-wilson"
      },
      "source": [
        "##### YOUR CODE HERE #######\n",
        "\n",
        "\n",
        "############################"
      ],
      "id": "thousand-wilson",
      "execution_count": null,
      "outputs": []
    },
    {
      "cell_type": "code",
      "metadata": {
        "colab": {
          "base_uri": "https://localhost:8080/",
          "height": 48,
          "referenced_widgets": [
            "3ad94b7c20e64c8ba3fde2f8039563dd",
            "e2679b0a8a8e4edaa2a1130df3a8d832",
            "e7794ef8952a4a42b7ba1924988c484f"
          ]
        },
        "id": "absent-brisbane",
        "jupyter": {
          "source_hidden": true
        },
        "outputId": "ed422a5d-1f36-4b66-9d7a-f41e7aa3bb04"
      },
      "source": [
        "widgets.Text(\n",
        "    value='',\n",
        "    placeholder='Type something',\n",
        "    description='Answer:',\n",
        "    disabled=False\n",
        ")"
      ],
      "id": "absent-brisbane",
      "execution_count": null,
      "outputs": [
        {
          "output_type": "display_data",
          "data": {
            "application/vnd.jupyter.widget-view+json": {
              "model_id": "3ad94b7c20e64c8ba3fde2f8039563dd",
              "version_major": 2,
              "version_minor": 0
            },
            "text/plain": [
              "Text(value='', description='Answer:', placeholder='Type something')"
            ]
          },
          "metadata": {
            "tags": []
          }
        }
      ]
    },
    {
      "cell_type": "markdown",
      "metadata": {
        "id": "hindu-andrews"
      },
      "source": [
        "**7. [1 point] Convert the following columns to floating point (float) for PLANT_AREA and EC_plant_usage, convert the FY (Fiscal Year) column to integer (int), and convert the following columns to string (str), SIC, STATE, PRODUCTS.**\n",
        ">Hint: Use the *data.astype* command."
      ],
      "id": "hindu-andrews"
    },
    {
      "cell_type": "code",
      "metadata": {
        "id": "continent-yellow"
      },
      "source": [
        "##### YOUR CODE HERE #######\n",
        "\n",
        "\n",
        "############################"
      ],
      "id": "continent-yellow",
      "execution_count": null,
      "outputs": []
    },
    {
      "cell_type": "markdown",
      "metadata": {
        "id": "ranging-aggregate"
      },
      "source": [
        "**8. [1 point] What is the data type provided in each column? [Choose from the data types covered from lecture 2a]**"
      ],
      "id": "ranging-aggregate"
    },
    {
      "cell_type": "code",
      "metadata": {
        "colab": {
          "base_uri": "https://localhost:8080/",
          "height": 111,
          "referenced_widgets": [
            "75a495769cd545e79bafebda3a0ab1e9",
            "13dca105d8c44ec59f28ab5c945e7ff6",
            "b21a8a4cf84c4af5aaaa2ebc577d1c79",
            "6eae3c3bcba142049b35bb756187573d",
            "13c6ca8bdf78493293fea0f3fa8506b0",
            "e38ebd220b1a402e8393c954129ca326",
            "32888ac196974d35b3dd49794c4f49b7",
            "a719816442d24f519b0c1b891f074c5d",
            "2749507e954447dbae907dce4958dec6",
            "5249d0ed889243819855bd885e5ec366",
            "24063cd1878f48a8b7891121d1055b6a",
            "a86383932cd04bd48e3339914848979a",
            "bbbdf4a258244dc3bd155f16532da621",
            "9a949e47ee3041a7b67f3d63a06333c6",
            "542eb7f5e9e449b2834f7dbcaea7d169",
            "49138e378fbb4b56a309f68e50f3fc7c",
            "80d0c05b67304d10bd5cd86bec26e093",
            "4df9bb3a20ff48a8b8086e9c2239ec1f",
            "7a11fd4223064a9293b357f320a8232b",
            "44bdf0792f604156a4639e6949dfae06"
          ]
        },
        "id": "focused-marine",
        "outputId": "e73e9d4e-3007-417f-9546-7e0f43bb130f"
      },
      "source": [
        "tab_contents = ['FY', 'SIC', 'STATE', 'PLANT_AREA', 'PRODUCTS', 'EC_plant_usage']\n",
        "children = [widgets.Text(description=\"Data Type:\") for name in tab_contents]\n",
        "tab = widgets.Tab()\n",
        "tab.children = children\n",
        "for i in range(len(children)):\n",
        "    tab.set_title(i, str(tab_contents[i]))\n",
        "tab"
      ],
      "id": "focused-marine",
      "execution_count": null,
      "outputs": [
        {
          "output_type": "display_data",
          "data": {
            "application/vnd.jupyter.widget-view+json": {
              "model_id": "75a495769cd545e79bafebda3a0ab1e9",
              "version_major": 2,
              "version_minor": 0
            },
            "text/plain": [
              "Tab(children=(Text(value='', description='Data Type:'), Text(value='', description='Data Type:'), Text(value='…"
            ]
          },
          "metadata": {
            "tags": []
          }
        }
      ]
    },
    {
      "cell_type": "markdown",
      "metadata": {
        "id": "expressed-spencer"
      },
      "source": [
        "**9. [2 points] The data set has too many building types. Select only records for sites that have a Standard Industrial Classification as \"Electronic & Other Electric Equipment\" (SIC starts with 36). (*Hint: Using something like this...   data[' '].str[:2] == \" \"]*  )**"
      ],
      "id": "expressed-spencer"
    },
    {
      "cell_type": "code",
      "metadata": {
        "id": "continuous-jewelry"
      },
      "source": [
        "##### YOUR CODE HERE #######\n",
        "\n",
        "\n",
        "############################"
      ],
      "id": "continuous-jewelry",
      "execution_count": null,
      "outputs": []
    },
    {
      "cell_type": "markdown",
      "metadata": {
        "id": "effective-increase"
      },
      "source": [
        "**10. [1 point] Create a scatterplot of PLANT_AREA versus EC_plant_usage**\n",
        ">Hint: Use *data.plot.scatter*"
      ],
      "id": "effective-increase"
    },
    {
      "cell_type": "code",
      "metadata": {
        "id": "changing-contractor"
      },
      "source": [
        "##### YOUR CODE HERE #######\n",
        "\n",
        "\n",
        "############################"
      ],
      "id": "changing-contractor",
      "execution_count": null,
      "outputs": []
    },
    {
      "cell_type": "markdown",
      "metadata": {
        "id": "ambient-locking"
      },
      "source": [
        "**11. [3 points] Identify and remove outliers, in the 'PLANT_AREA' and 'EC_plant_usage' columns, using the the sklearn Elliptic Envelope Covariance Subroutine (default settings). Create a scatterplot to view the new data.**\n",
        "> HINTS:\n",
        ">* [sklearn outlier detection chapter](https://scikit-learn.org/stable/modules/outlier_detection.html)\n",
        ">* [sklearn outlier detection with covariance elliptic envelope](https://scikit-learn.org/stable/modules/generated/sklearn.covariance.EllipticEnvelope.html)\n",
        ">* Use the outlier detection routine to assign 1 (inlier) or -1 (outlier) as a new column. Create a scatter plot to visualize the inliers & outliers as groups.\n",
        ">>1. Use a subset of the data which is just the two columns. Then, fit the ellipticenvelope to the data.\n",
        ">>2. Make a prediction using the same data and the ellipticenvelope fit (the default output is either 1 for an inlier or -1 for an outlier)\n",
        ">>3. Select just the inliers as your new data table"
      ],
      "id": "ambient-locking"
    },
    {
      "cell_type": "code",
      "metadata": {
        "id": "amateur-machine"
      },
      "source": [
        "##### YOUR CODE HERE #######\n",
        "\n",
        "\n",
        "############################"
      ],
      "id": "amateur-machine",
      "execution_count": null,
      "outputs": []
    },
    {
      "cell_type": "markdown",
      "metadata": {
        "id": "fifth-hospital"
      },
      "source": [
        "**12. [2 points] Calculate the Energy Usage Index for this data, as EUI = EC_plant_usage/PLANT_AREA. Create a histogram of EUI and report the mean EUI for this data.**\n",
        "> HINT: Use last week's example for a reference"
      ],
      "id": "fifth-hospital"
    },
    {
      "cell_type": "code",
      "metadata": {
        "id": "warming-castle"
      },
      "source": [
        "##### YOUR CODE HERE #######\n",
        "\n",
        "\n",
        "############################"
      ],
      "id": "warming-castle",
      "execution_count": null,
      "outputs": []
    },
    {
      "cell_type": "code",
      "metadata": {
        "colab": {
          "base_uri": "https://localhost:8080/",
          "height": 48,
          "referenced_widgets": [
            "cc0e479d7c014230aa91346743ce074d",
            "1943d15771774bc59002b34b41c58acf",
            "0e8ae3eb7f474a95bf78caefb62f2a9d"
          ]
        },
        "id": "skilled-artwork",
        "jupyter": {
          "source_hidden": true
        },
        "outputId": "b4570025-8347-43a3-fc21-62eeae343f42"
      },
      "source": [
        "widgets.Text(\n",
        "    value='',\n",
        "    placeholder='Type something',\n",
        "    description='Answer:',\n",
        "    disabled=False\n",
        ")"
      ],
      "id": "skilled-artwork",
      "execution_count": null,
      "outputs": [
        {
          "output_type": "display_data",
          "data": {
            "application/vnd.jupyter.widget-view+json": {
              "model_id": "cc0e479d7c014230aa91346743ce074d",
              "version_major": 2,
              "version_minor": 0
            },
            "text/plain": [
              "Text(value='', description='Answer:', placeholder='Type something')"
            ]
          },
          "metadata": {
            "tags": []
          }
        }
      ]
    },
    {
      "cell_type": "markdown",
      "metadata": {
        "id": "affecting-words"
      },
      "source": [
        "**13. [3 points] REFLECTION: Write a short paragraph on what you learned, answering the following questions**\n",
        ">* What is your overall assessment of the quality of the raw data? Are there likely to be outliers?\n",
        ">* How confident are you that the outliers identified by the covariance method (EllipticEnvelope), can be removed?\n",
        ">* What future work do you recommend to understand the data better, prior to implementing A.I. techniques?"
      ],
      "id": "affecting-words"
    },
    {
      "cell_type": "code",
      "metadata": {
        "colab": {
          "base_uri": "https://localhost:8080/",
          "height": 48,
          "referenced_widgets": [
            "2e29916adce24145910f81a1f4fe8541",
            "d9ca4b175da34eda8b0f6b6e16b58c6e",
            "eca5c7ea196a4300a77bdbfd2d42c969"
          ]
        },
        "id": "medium-webcam",
        "jupyter": {
          "source_hidden": true
        },
        "outputId": "37ed1d84-0180-4730-df21-fbd154a35b6d"
      },
      "source": [
        "widgets.Text(\n",
        "    value='',\n",
        "    placeholder='Type something',\n",
        "    description='Answer:',\n",
        "    disabled=False\n",
        ")"
      ],
      "id": "medium-webcam",
      "execution_count": null,
      "outputs": [
        {
          "output_type": "display_data",
          "data": {
            "application/vnd.jupyter.widget-view+json": {
              "model_id": "2e29916adce24145910f81a1f4fe8541",
              "version_major": 2,
              "version_minor": 0
            },
            "text/plain": [
              "Text(value='', description='Answer:', placeholder='Type something')"
            ]
          },
          "metadata": {
            "tags": []
          }
        }
      ]
    }
  ]
}